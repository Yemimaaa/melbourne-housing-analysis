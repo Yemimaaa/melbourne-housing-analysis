{
 "cells": [
  {
   "cell_type": "markdown",
   "id": "df96485b-8379-4aeb-bbba-806e4e6d5560",
   "metadata": {},
   "source": [
    "# MELBOURNE HOUSING "
   ]
  },
  {
   "cell_type": "markdown",
   "id": "670e5d8b-217d-473a-b197-d27dcb726e0b",
   "metadata": {
    "jp-MarkdownHeadingCollapsed": true,
    "tags": []
   },
   "source": [
    "## IMPORT LIBRARIES"
   ]
  },
  {
   "cell_type": "code",
   "execution_count": 1,
   "id": "e3abb1b5-ea65-430d-a4bc-53070d37bb94",
   "metadata": {
    "tags": []
   },
   "outputs": [],
   "source": [
    "import pandas as pd\n",
    "import numpy as np\n",
    "import seaborn as sb\n",
    "import matplotlib.pyplot as plt\n",
    "import scipy.stats as ss\n",
    "from scipy.stats import f_oneway\n",
    "import seaborn as sns\n",
    "from sklearn.preprocessing import MinMaxScaler, OrdinalEncoder\n",
    "from sklearn.feature_selection import SelectKBest,f_regression\n",
    "from sklearn.ensemble import ExtraTreesRegressor\n",
    "import warnings \n",
    "warnings.filterwarnings(\"ignore\")"
   ]
  },
  {
   "cell_type": "markdown",
   "id": "6a5e970a-3a23-4942-9be9-d0f782cbb05c",
   "metadata": {
    "jp-MarkdownHeadingCollapsed": true,
    "tags": []
   },
   "source": [
    "## OVERVIEW"
   ]
  },
  {
   "cell_type": "code",
   "execution_count": 2,
   "id": "7bcb7be9-d1e4-4973-a886-36a3b8d9eec8",
   "metadata": {
    "tags": []
   },
   "outputs": [],
   "source": [
    "df = pd.read_csv('Melbourne_housing_FULL.csv')"
   ]
  },
  {
   "cell_type": "code",
   "execution_count": 3,
   "id": "e98818cb-4466-4a6c-925d-22de6d09ee44",
   "metadata": {
    "tags": []
   },
   "outputs": [
    {
     "data": {
      "text/html": [
       "<div>\n",
       "<style scoped>\n",
       "    .dataframe tbody tr th:only-of-type {\n",
       "        vertical-align: middle;\n",
       "    }\n",
       "\n",
       "    .dataframe tbody tr th {\n",
       "        vertical-align: top;\n",
       "    }\n",
       "\n",
       "    .dataframe thead th {\n",
       "        text-align: right;\n",
       "    }\n",
       "</style>\n",
       "<table border=\"1\" class=\"dataframe\">\n",
       "  <thead>\n",
       "    <tr style=\"text-align: right;\">\n",
       "      <th></th>\n",
       "      <th>Suburb</th>\n",
       "      <th>Address</th>\n",
       "      <th>Rooms</th>\n",
       "      <th>Type</th>\n",
       "      <th>Price</th>\n",
       "      <th>Method</th>\n",
       "      <th>SellerG</th>\n",
       "      <th>Date</th>\n",
       "      <th>Distance</th>\n",
       "      <th>Postcode</th>\n",
       "      <th>...</th>\n",
       "      <th>Bathroom</th>\n",
       "      <th>Car</th>\n",
       "      <th>Landsize</th>\n",
       "      <th>BuildingArea</th>\n",
       "      <th>YearBuilt</th>\n",
       "      <th>CouncilArea</th>\n",
       "      <th>Lattitude</th>\n",
       "      <th>Longtitude</th>\n",
       "      <th>Regionname</th>\n",
       "      <th>Propertycount</th>\n",
       "    </tr>\n",
       "  </thead>\n",
       "  <tbody>\n",
       "    <tr>\n",
       "      <th>0</th>\n",
       "      <td>Abbotsford</td>\n",
       "      <td>68 Studley St</td>\n",
       "      <td>2</td>\n",
       "      <td>h</td>\n",
       "      <td>NaN</td>\n",
       "      <td>SS</td>\n",
       "      <td>Jellis</td>\n",
       "      <td>3/09/2016</td>\n",
       "      <td>2.5</td>\n",
       "      <td>3067.0</td>\n",
       "      <td>...</td>\n",
       "      <td>1.0</td>\n",
       "      <td>1.0</td>\n",
       "      <td>126.0</td>\n",
       "      <td>NaN</td>\n",
       "      <td>NaN</td>\n",
       "      <td>Yarra City Council</td>\n",
       "      <td>-37.8014</td>\n",
       "      <td>144.9958</td>\n",
       "      <td>Northern Metropolitan</td>\n",
       "      <td>4019.0</td>\n",
       "    </tr>\n",
       "    <tr>\n",
       "      <th>1</th>\n",
       "      <td>Abbotsford</td>\n",
       "      <td>85 Turner St</td>\n",
       "      <td>2</td>\n",
       "      <td>h</td>\n",
       "      <td>1480000.0</td>\n",
       "      <td>S</td>\n",
       "      <td>Biggin</td>\n",
       "      <td>3/12/2016</td>\n",
       "      <td>2.5</td>\n",
       "      <td>3067.0</td>\n",
       "      <td>...</td>\n",
       "      <td>1.0</td>\n",
       "      <td>1.0</td>\n",
       "      <td>202.0</td>\n",
       "      <td>NaN</td>\n",
       "      <td>NaN</td>\n",
       "      <td>Yarra City Council</td>\n",
       "      <td>-37.7996</td>\n",
       "      <td>144.9984</td>\n",
       "      <td>Northern Metropolitan</td>\n",
       "      <td>4019.0</td>\n",
       "    </tr>\n",
       "    <tr>\n",
       "      <th>2</th>\n",
       "      <td>Abbotsford</td>\n",
       "      <td>25 Bloomburg St</td>\n",
       "      <td>2</td>\n",
       "      <td>h</td>\n",
       "      <td>1035000.0</td>\n",
       "      <td>S</td>\n",
       "      <td>Biggin</td>\n",
       "      <td>4/02/2016</td>\n",
       "      <td>2.5</td>\n",
       "      <td>3067.0</td>\n",
       "      <td>...</td>\n",
       "      <td>1.0</td>\n",
       "      <td>0.0</td>\n",
       "      <td>156.0</td>\n",
       "      <td>79.0</td>\n",
       "      <td>1900.0</td>\n",
       "      <td>Yarra City Council</td>\n",
       "      <td>-37.8079</td>\n",
       "      <td>144.9934</td>\n",
       "      <td>Northern Metropolitan</td>\n",
       "      <td>4019.0</td>\n",
       "    </tr>\n",
       "  </tbody>\n",
       "</table>\n",
       "<p>3 rows × 21 columns</p>\n",
       "</div>"
      ],
      "text/plain": [
       "       Suburb          Address  Rooms Type      Price Method SellerG  \\\n",
       "0  Abbotsford    68 Studley St      2    h        NaN     SS  Jellis   \n",
       "1  Abbotsford     85 Turner St      2    h  1480000.0      S  Biggin   \n",
       "2  Abbotsford  25 Bloomburg St      2    h  1035000.0      S  Biggin   \n",
       "\n",
       "        Date  Distance  Postcode  ...  Bathroom  Car  Landsize  BuildingArea  \\\n",
       "0  3/09/2016       2.5    3067.0  ...       1.0  1.0     126.0           NaN   \n",
       "1  3/12/2016       2.5    3067.0  ...       1.0  1.0     202.0           NaN   \n",
       "2  4/02/2016       2.5    3067.0  ...       1.0  0.0     156.0          79.0   \n",
       "\n",
       "   YearBuilt         CouncilArea Lattitude  Longtitude             Regionname  \\\n",
       "0        NaN  Yarra City Council  -37.8014    144.9958  Northern Metropolitan   \n",
       "1        NaN  Yarra City Council  -37.7996    144.9984  Northern Metropolitan   \n",
       "2     1900.0  Yarra City Council  -37.8079    144.9934  Northern Metropolitan   \n",
       "\n",
       "  Propertycount  \n",
       "0        4019.0  \n",
       "1        4019.0  \n",
       "2        4019.0  \n",
       "\n",
       "[3 rows x 21 columns]"
      ]
     },
     "execution_count": 3,
     "metadata": {},
     "output_type": "execute_result"
    }
   ],
   "source": [
    "df.head(3)"
   ]
  },
  {
   "cell_type": "code",
   "execution_count": 4,
   "id": "b2071616-a9f1-4e3e-85b3-220be070f517",
   "metadata": {
    "tags": []
   },
   "outputs": [
    {
     "data": {
      "text/html": [
       "<div>\n",
       "<style scoped>\n",
       "    .dataframe tbody tr th:only-of-type {\n",
       "        vertical-align: middle;\n",
       "    }\n",
       "\n",
       "    .dataframe tbody tr th {\n",
       "        vertical-align: top;\n",
       "    }\n",
       "\n",
       "    .dataframe thead th {\n",
       "        text-align: right;\n",
       "    }\n",
       "</style>\n",
       "<table border=\"1\" class=\"dataframe\">\n",
       "  <thead>\n",
       "    <tr style=\"text-align: right;\">\n",
       "      <th></th>\n",
       "      <th>Suburb</th>\n",
       "      <th>Address</th>\n",
       "      <th>Rooms</th>\n",
       "      <th>Type</th>\n",
       "      <th>Price</th>\n",
       "      <th>Method</th>\n",
       "      <th>SellerG</th>\n",
       "      <th>Date</th>\n",
       "      <th>Distance</th>\n",
       "      <th>Postcode</th>\n",
       "      <th>...</th>\n",
       "      <th>Bathroom</th>\n",
       "      <th>Car</th>\n",
       "      <th>Landsize</th>\n",
       "      <th>BuildingArea</th>\n",
       "      <th>YearBuilt</th>\n",
       "      <th>CouncilArea</th>\n",
       "      <th>Lattitude</th>\n",
       "      <th>Longtitude</th>\n",
       "      <th>Regionname</th>\n",
       "      <th>Propertycount</th>\n",
       "    </tr>\n",
       "  </thead>\n",
       "  <tbody>\n",
       "    <tr>\n",
       "      <th>34854</th>\n",
       "      <td>Yarraville</td>\n",
       "      <td>147A Severn St</td>\n",
       "      <td>2</td>\n",
       "      <td>t</td>\n",
       "      <td>705000.0</td>\n",
       "      <td>S</td>\n",
       "      <td>Jas</td>\n",
       "      <td>24/02/2018</td>\n",
       "      <td>6.3</td>\n",
       "      <td>3013.0</td>\n",
       "      <td>...</td>\n",
       "      <td>1.0</td>\n",
       "      <td>2.0</td>\n",
       "      <td>220.0</td>\n",
       "      <td>120.0</td>\n",
       "      <td>2000.0</td>\n",
       "      <td>Maribyrnong City Council</td>\n",
       "      <td>-37.82286</td>\n",
       "      <td>144.87856</td>\n",
       "      <td>Western Metropolitan</td>\n",
       "      <td>6543.0</td>\n",
       "    </tr>\n",
       "    <tr>\n",
       "      <th>34855</th>\n",
       "      <td>Yarraville</td>\n",
       "      <td>12/37 Stephen St</td>\n",
       "      <td>3</td>\n",
       "      <td>h</td>\n",
       "      <td>1140000.0</td>\n",
       "      <td>SP</td>\n",
       "      <td>hockingstuart</td>\n",
       "      <td>24/02/2018</td>\n",
       "      <td>6.3</td>\n",
       "      <td>3013.0</td>\n",
       "      <td>...</td>\n",
       "      <td>NaN</td>\n",
       "      <td>NaN</td>\n",
       "      <td>NaN</td>\n",
       "      <td>NaN</td>\n",
       "      <td>NaN</td>\n",
       "      <td>Maribyrnong City Council</td>\n",
       "      <td>NaN</td>\n",
       "      <td>NaN</td>\n",
       "      <td>Western Metropolitan</td>\n",
       "      <td>6543.0</td>\n",
       "    </tr>\n",
       "    <tr>\n",
       "      <th>34856</th>\n",
       "      <td>Yarraville</td>\n",
       "      <td>3 Tarrengower St</td>\n",
       "      <td>2</td>\n",
       "      <td>h</td>\n",
       "      <td>1020000.0</td>\n",
       "      <td>PI</td>\n",
       "      <td>RW</td>\n",
       "      <td>24/02/2018</td>\n",
       "      <td>6.3</td>\n",
       "      <td>3013.0</td>\n",
       "      <td>...</td>\n",
       "      <td>1.0</td>\n",
       "      <td>0.0</td>\n",
       "      <td>250.0</td>\n",
       "      <td>103.0</td>\n",
       "      <td>1930.0</td>\n",
       "      <td>Maribyrnong City Council</td>\n",
       "      <td>-37.81810</td>\n",
       "      <td>144.89351</td>\n",
       "      <td>Western Metropolitan</td>\n",
       "      <td>6543.0</td>\n",
       "    </tr>\n",
       "  </tbody>\n",
       "</table>\n",
       "<p>3 rows × 21 columns</p>\n",
       "</div>"
      ],
      "text/plain": [
       "           Suburb           Address  Rooms Type      Price Method  \\\n",
       "34854  Yarraville    147A Severn St      2    t   705000.0      S   \n",
       "34855  Yarraville  12/37 Stephen St      3    h  1140000.0     SP   \n",
       "34856  Yarraville  3 Tarrengower St      2    h  1020000.0     PI   \n",
       "\n",
       "             SellerG        Date  Distance  Postcode  ...  Bathroom  Car  \\\n",
       "34854            Jas  24/02/2018       6.3    3013.0  ...       1.0  2.0   \n",
       "34855  hockingstuart  24/02/2018       6.3    3013.0  ...       NaN  NaN   \n",
       "34856             RW  24/02/2018       6.3    3013.0  ...       1.0  0.0   \n",
       "\n",
       "       Landsize  BuildingArea  YearBuilt               CouncilArea Lattitude  \\\n",
       "34854     220.0         120.0     2000.0  Maribyrnong City Council -37.82286   \n",
       "34855       NaN           NaN        NaN  Maribyrnong City Council       NaN   \n",
       "34856     250.0         103.0     1930.0  Maribyrnong City Council -37.81810   \n",
       "\n",
       "       Longtitude            Regionname Propertycount  \n",
       "34854   144.87856  Western Metropolitan        6543.0  \n",
       "34855         NaN  Western Metropolitan        6543.0  \n",
       "34856   144.89351  Western Metropolitan        6543.0  \n",
       "\n",
       "[3 rows x 21 columns]"
      ]
     },
     "execution_count": 4,
     "metadata": {},
     "output_type": "execute_result"
    }
   ],
   "source": [
    "df.tail(3)"
   ]
  },
  {
   "cell_type": "code",
   "execution_count": 5,
   "id": "778445e4-a17d-4fb0-8d8a-68a2488c3b81",
   "metadata": {
    "tags": []
   },
   "outputs": [
    {
     "name": "stdout",
     "output_type": "stream",
     "text": [
      "<class 'pandas.core.frame.DataFrame'>\n",
      "RangeIndex: 34857 entries, 0 to 34856\n",
      "Data columns (total 21 columns):\n",
      " #   Column         Non-Null Count  Dtype  \n",
      "---  ------         --------------  -----  \n",
      " 0   Suburb         34857 non-null  object \n",
      " 1   Address        34857 non-null  object \n",
      " 2   Rooms          34857 non-null  int64  \n",
      " 3   Type           34857 non-null  object \n",
      " 4   Price          27247 non-null  float64\n",
      " 5   Method         34857 non-null  object \n",
      " 6   SellerG        34857 non-null  object \n",
      " 7   Date           34857 non-null  object \n",
      " 8   Distance       34856 non-null  float64\n",
      " 9   Postcode       34856 non-null  float64\n",
      " 10  Bedroom2       26640 non-null  float64\n",
      " 11  Bathroom       26631 non-null  float64\n",
      " 12  Car            26129 non-null  float64\n",
      " 13  Landsize       23047 non-null  float64\n",
      " 14  BuildingArea   13742 non-null  float64\n",
      " 15  YearBuilt      15551 non-null  float64\n",
      " 16  CouncilArea    34854 non-null  object \n",
      " 17  Lattitude      26881 non-null  float64\n",
      " 18  Longtitude     26881 non-null  float64\n",
      " 19  Regionname     34854 non-null  object \n",
      " 20  Propertycount  34854 non-null  float64\n",
      "dtypes: float64(12), int64(1), object(8)\n",
      "memory usage: 5.6+ MB\n"
     ]
    }
   ],
   "source": [
    "df.info()"
   ]
  },
  {
   "cell_type": "code",
   "execution_count": 6,
   "id": "a2532689-9207-4283-a30b-1225a182e475",
   "metadata": {
    "tags": []
   },
   "outputs": [
    {
     "data": {
      "text/html": [
       "<div>\n",
       "<style scoped>\n",
       "    .dataframe tbody tr th:only-of-type {\n",
       "        vertical-align: middle;\n",
       "    }\n",
       "\n",
       "    .dataframe tbody tr th {\n",
       "        vertical-align: top;\n",
       "    }\n",
       "\n",
       "    .dataframe thead th {\n",
       "        text-align: right;\n",
       "    }\n",
       "</style>\n",
       "<table border=\"1\" class=\"dataframe\">\n",
       "  <thead>\n",
       "    <tr style=\"text-align: right;\">\n",
       "      <th></th>\n",
       "      <th>Features</th>\n",
       "      <th>dataType</th>\n",
       "      <th>nullvalues</th>\n",
       "      <th>unique</th>\n",
       "      <th>uniqueSample</th>\n",
       "    </tr>\n",
       "  </thead>\n",
       "  <tbody>\n",
       "    <tr>\n",
       "      <th>0</th>\n",
       "      <td>Suburb</td>\n",
       "      <td>object</td>\n",
       "      <td>0</td>\n",
       "      <td>351</td>\n",
       "      <td>[Abbotsford, Airport West, Albert Park, Alphin...</td>\n",
       "    </tr>\n",
       "    <tr>\n",
       "      <th>1</th>\n",
       "      <td>Address</td>\n",
       "      <td>object</td>\n",
       "      <td>0</td>\n",
       "      <td>34009</td>\n",
       "      <td>[68 Studley St, 85 Turner St, 25 Bloomburg St,...</td>\n",
       "    </tr>\n",
       "    <tr>\n",
       "      <th>2</th>\n",
       "      <td>Rooms</td>\n",
       "      <td>int64</td>\n",
       "      <td>0</td>\n",
       "      <td>12</td>\n",
       "      <td>[2, 3, 4, 1, 5, 6, 7, 8, 10, 9, 12, 16]</td>\n",
       "    </tr>\n",
       "    <tr>\n",
       "      <th>3</th>\n",
       "      <td>Type</td>\n",
       "      <td>object</td>\n",
       "      <td>0</td>\n",
       "      <td>3</td>\n",
       "      <td>[h, u, t]</td>\n",
       "    </tr>\n",
       "    <tr>\n",
       "      <th>4</th>\n",
       "      <td>Price</td>\n",
       "      <td>float64</td>\n",
       "      <td>7610</td>\n",
       "      <td>2871</td>\n",
       "      <td>[nan, 1480000.0, 1035000.0, 1465000.0, 850000....</td>\n",
       "    </tr>\n",
       "    <tr>\n",
       "      <th>5</th>\n",
       "      <td>Method</td>\n",
       "      <td>object</td>\n",
       "      <td>0</td>\n",
       "      <td>9</td>\n",
       "      <td>[SS, S, VB, SP, PI, SN, W, PN, SA]</td>\n",
       "    </tr>\n",
       "    <tr>\n",
       "      <th>6</th>\n",
       "      <td>SellerG</td>\n",
       "      <td>object</td>\n",
       "      <td>0</td>\n",
       "      <td>388</td>\n",
       "      <td>[Jellis, Biggin, Rounds, Nelson, Collins, Ding...</td>\n",
       "    </tr>\n",
       "    <tr>\n",
       "      <th>7</th>\n",
       "      <td>Date</td>\n",
       "      <td>object</td>\n",
       "      <td>0</td>\n",
       "      <td>78</td>\n",
       "      <td>[3/09/2016, 3/12/2016, 4/02/2016, 4/03/2017, 4...</td>\n",
       "    </tr>\n",
       "    <tr>\n",
       "      <th>8</th>\n",
       "      <td>Distance</td>\n",
       "      <td>float64</td>\n",
       "      <td>1</td>\n",
       "      <td>215</td>\n",
       "      <td>[2.5, 13.5, 3.3, 6.4, 13.8, 11.1, 6.3, 5.9, 11...</td>\n",
       "    </tr>\n",
       "    <tr>\n",
       "      <th>9</th>\n",
       "      <td>Postcode</td>\n",
       "      <td>float64</td>\n",
       "      <td>1</td>\n",
       "      <td>211</td>\n",
       "      <td>[3067.0, 3042.0, 3206.0, 3078.0, 3018.0, 3025....</td>\n",
       "    </tr>\n",
       "    <tr>\n",
       "      <th>10</th>\n",
       "      <td>Bedroom2</td>\n",
       "      <td>float64</td>\n",
       "      <td>8217</td>\n",
       "      <td>15</td>\n",
       "      <td>[2.0, 3.0, 4.0, 6.0, nan, 1.0, 5.0, 7.0, 0.0, ...</td>\n",
       "    </tr>\n",
       "    <tr>\n",
       "      <th>11</th>\n",
       "      <td>Bathroom</td>\n",
       "      <td>float64</td>\n",
       "      <td>8226</td>\n",
       "      <td>11</td>\n",
       "      <td>[1.0, 2.0, nan, 3.0, 7.0, 4.0, 0.0, 5.0, 6.0, ...</td>\n",
       "    </tr>\n",
       "    <tr>\n",
       "      <th>12</th>\n",
       "      <td>Car</td>\n",
       "      <td>float64</td>\n",
       "      <td>8728</td>\n",
       "      <td>15</td>\n",
       "      <td>[1.0, 0.0, 2.0, nan, 6.0, 5.0, 4.0, 3.0, 8.0, ...</td>\n",
       "    </tr>\n",
       "    <tr>\n",
       "      <th>13</th>\n",
       "      <td>Landsize</td>\n",
       "      <td>float64</td>\n",
       "      <td>11810</td>\n",
       "      <td>1684</td>\n",
       "      <td>[126.0, 202.0, 156.0, 0.0, 134.0, 94.0, 120.0,...</td>\n",
       "    </tr>\n",
       "    <tr>\n",
       "      <th>14</th>\n",
       "      <td>BuildingArea</td>\n",
       "      <td>float64</td>\n",
       "      <td>21115</td>\n",
       "      <td>740</td>\n",
       "      <td>[nan, 79.0, 150.0, 142.0, 220.0, 210.0, 82.0, ...</td>\n",
       "    </tr>\n",
       "    <tr>\n",
       "      <th>15</th>\n",
       "      <td>YearBuilt</td>\n",
       "      <td>float64</td>\n",
       "      <td>19306</td>\n",
       "      <td>160</td>\n",
       "      <td>[nan, 1900.0, 2014.0, 2006.0, 1910.0, 2009.0, ...</td>\n",
       "    </tr>\n",
       "    <tr>\n",
       "      <th>16</th>\n",
       "      <td>CouncilArea</td>\n",
       "      <td>object</td>\n",
       "      <td>3</td>\n",
       "      <td>33</td>\n",
       "      <td>[Yarra City Council, Moonee Valley City Counci...</td>\n",
       "    </tr>\n",
       "    <tr>\n",
       "      <th>17</th>\n",
       "      <td>Lattitude</td>\n",
       "      <td>float64</td>\n",
       "      <td>7976</td>\n",
       "      <td>13402</td>\n",
       "      <td>[-37.8014, -37.7996, -37.8079, -37.8114, -37.8...</td>\n",
       "    </tr>\n",
       "    <tr>\n",
       "      <th>18</th>\n",
       "      <td>Longtitude</td>\n",
       "      <td>float64</td>\n",
       "      <td>7976</td>\n",
       "      <td>14524</td>\n",
       "      <td>[144.9958, 144.9984, 144.9934, 145.0116, 144.9...</td>\n",
       "    </tr>\n",
       "    <tr>\n",
       "      <th>19</th>\n",
       "      <td>Regionname</td>\n",
       "      <td>object</td>\n",
       "      <td>3</td>\n",
       "      <td>8</td>\n",
       "      <td>[Northern Metropolitan, Western Metropolitan, ...</td>\n",
       "    </tr>\n",
       "    <tr>\n",
       "      <th>20</th>\n",
       "      <td>Propertycount</td>\n",
       "      <td>float64</td>\n",
       "      <td>3</td>\n",
       "      <td>342</td>\n",
       "      <td>[4019.0, 3464.0, 3280.0, 2211.0, 5301.0, 5132....</td>\n",
       "    </tr>\n",
       "  </tbody>\n",
       "</table>\n",
       "</div>"
      ],
      "text/plain": [
       "         Features dataType  nullvalues  unique  \\\n",
       "0          Suburb   object           0     351   \n",
       "1         Address   object           0   34009   \n",
       "2           Rooms    int64           0      12   \n",
       "3            Type   object           0       3   \n",
       "4           Price  float64        7610    2871   \n",
       "5          Method   object           0       9   \n",
       "6         SellerG   object           0     388   \n",
       "7            Date   object           0      78   \n",
       "8        Distance  float64           1     215   \n",
       "9        Postcode  float64           1     211   \n",
       "10       Bedroom2  float64        8217      15   \n",
       "11       Bathroom  float64        8226      11   \n",
       "12            Car  float64        8728      15   \n",
       "13       Landsize  float64       11810    1684   \n",
       "14   BuildingArea  float64       21115     740   \n",
       "15      YearBuilt  float64       19306     160   \n",
       "16    CouncilArea   object           3      33   \n",
       "17      Lattitude  float64        7976   13402   \n",
       "18     Longtitude  float64        7976   14524   \n",
       "19     Regionname   object           3       8   \n",
       "20  Propertycount  float64           3     342   \n",
       "\n",
       "                                         uniqueSample  \n",
       "0   [Abbotsford, Airport West, Albert Park, Alphin...  \n",
       "1   [68 Studley St, 85 Turner St, 25 Bloomburg St,...  \n",
       "2             [2, 3, 4, 1, 5, 6, 7, 8, 10, 9, 12, 16]  \n",
       "3                                           [h, u, t]  \n",
       "4   [nan, 1480000.0, 1035000.0, 1465000.0, 850000....  \n",
       "5                  [SS, S, VB, SP, PI, SN, W, PN, SA]  \n",
       "6   [Jellis, Biggin, Rounds, Nelson, Collins, Ding...  \n",
       "7   [3/09/2016, 3/12/2016, 4/02/2016, 4/03/2017, 4...  \n",
       "8   [2.5, 13.5, 3.3, 6.4, 13.8, 11.1, 6.3, 5.9, 11...  \n",
       "9   [3067.0, 3042.0, 3206.0, 3078.0, 3018.0, 3025....  \n",
       "10  [2.0, 3.0, 4.0, 6.0, nan, 1.0, 5.0, 7.0, 0.0, ...  \n",
       "11  [1.0, 2.0, nan, 3.0, 7.0, 4.0, 0.0, 5.0, 6.0, ...  \n",
       "12  [1.0, 0.0, 2.0, nan, 6.0, 5.0, 4.0, 3.0, 8.0, ...  \n",
       "13  [126.0, 202.0, 156.0, 0.0, 134.0, 94.0, 120.0,...  \n",
       "14  [nan, 79.0, 150.0, 142.0, 220.0, 210.0, 82.0, ...  \n",
       "15  [nan, 1900.0, 2014.0, 2006.0, 1910.0, 2009.0, ...  \n",
       "16  [Yarra City Council, Moonee Valley City Counci...  \n",
       "17  [-37.8014, -37.7996, -37.8079, -37.8114, -37.8...  \n",
       "18  [144.9958, 144.9984, 144.9934, 145.0116, 144.9...  \n",
       "19  [Northern Metropolitan, Western Metropolitan, ...  \n",
       "20  [4019.0, 3464.0, 3280.0, 2211.0, 5301.0, 5132....  "
      ]
     },
     "execution_count": 6,
     "metadata": {},
     "output_type": "execute_result"
    }
   ],
   "source": [
    "pd.DataFrame({'Features' : df.columns, 'dataType' : df.dtypes.values, \n",
    "              'nullvalues' : [df[i].isna().sum() for i in df.columns],\n",
    "              'unique' : [df[i].nunique() for i in df.columns],\n",
    "              'uniqueSample' : [list(pd.Series(df[i].unique())) for i in df.columns]}).reset_index(drop = True)"
   ]
  },
  {
   "cell_type": "code",
   "execution_count": 7,
   "id": "50bcecae-566a-4f1d-b898-3d365e3d3cfd",
   "metadata": {
    "tags": []
   },
   "outputs": [
    {
     "data": {
      "text/plain": [
       "Suburb               0\n",
       "Address              0\n",
       "Rooms                0\n",
       "Type                 0\n",
       "Price             7610\n",
       "Method               0\n",
       "SellerG              0\n",
       "Date                 0\n",
       "Distance             1\n",
       "Postcode             1\n",
       "Bedroom2          8217\n",
       "Bathroom          8226\n",
       "Car               8728\n",
       "Landsize         11810\n",
       "BuildingArea     21115\n",
       "YearBuilt        19306\n",
       "CouncilArea          3\n",
       "Lattitude         7976\n",
       "Longtitude        7976\n",
       "Regionname           3\n",
       "Propertycount        3\n",
       "dtype: int64"
      ]
     },
     "execution_count": 7,
     "metadata": {},
     "output_type": "execute_result"
    }
   ],
   "source": [
    "df.isnull().sum()"
   ]
  },
  {
   "cell_type": "markdown",
   "id": "6ac558a6-2788-4b00-b17e-f5ea93297bd7",
   "metadata": {
    "jp-MarkdownHeadingCollapsed": true,
    "tags": []
   },
   "source": [
    "## DATA DESCRIPTION"
   ]
  },
  {
   "cell_type": "markdown",
   "id": "609161f3-3842-4aa3-a6fa-2f1f003754ca",
   "metadata": {
    "tags": []
   },
   "source": [
    "Background:\n",
    "Melbourne is currently experiencing a housing bubble, \n",
    "(some experts say it may burst soon).\n",
    "\n",
    "Some Key Details:\n",
    "Suburb: Suburb\n",
    "\n",
    "Address: Address\n",
    "\n",
    "Rooms: Number of rooms\n",
    "\n",
    "Price: Price in Australian dollars\n",
    "\n",
    "Method:\n",
    "S - property sold;\n",
    "SP - property sold prior;\n",
    "PI - property passed in;\n",
    "PN - sold prior not disclosed;\n",
    "SN - sold not disclosed;\n",
    "NB - no bid;\n",
    "VB - vendor bid;\n",
    "W - withdrawn prior to auction;\n",
    "SA - sold after auction;\n",
    "SS - sold after auction price not disclosed.\n",
    "N/A - price or highest bid not available.\n",
    "\n",
    "Type:\n",
    "br - bedroom(s);\n",
    "h - house,cottage,villa, semi,terrace;\n",
    "u - unit, duplex;\n",
    "t - townhouse;\n",
    "dev site - development site;\n",
    "o res - other residential.\n",
    "\n",
    "SellerG: Real Estate Agent\n",
    "\n",
    "Date: Date sold\n",
    "\n",
    "Distance: Distance from CBD in Kilometres\n",
    "\n",
    "Regionname: General Region (West, North West, North, North east …etc)\n",
    "\n",
    "Propertycount: Number of properties that exist in the suburb.\n",
    "\n",
    "Bedroom2 : Scraped # of Bedrooms (from different source)\n",
    "\n",
    "Bathroom: Number of Bathrooms\n",
    "\n",
    "Car: Number of carspots\n",
    "\n",
    "Landsize: Land Size in Metres\n",
    "\n",
    "BuildingArea: Building Size in Metres\n",
    "\n",
    "YearBuilt: Year the house was built\n",
    "\n",
    "CouncilArea: Governing council for the area\n",
    "\n",
    "Lattitude: Self explanitory\n",
    "\n",
    "Longtitude: Self explanitory"
   ]
  },
  {
   "cell_type": "markdown",
   "id": "3077bcba-1aea-4e67-9970-df48155aef8e",
   "metadata": {
    "jp-MarkdownHeadingCollapsed": true,
    "tags": []
   },
   "source": [
    "## PREPROCESSING"
   ]
  },
  {
   "cell_type": "markdown",
   "id": "167ba096-2bcc-41e5-9402-e52bd70ce8e5",
   "metadata": {},
   "source": [
    "### Missing Values"
   ]
  },
  {
   "cell_type": "code",
   "execution_count": 8,
   "id": "26f2e284-2473-4d88-aa8c-58b8fc8c59be",
   "metadata": {
    "tags": []
   },
   "outputs": [
    {
     "data": {
      "text/html": [
       "<div>\n",
       "<style scoped>\n",
       "    .dataframe tbody tr th:only-of-type {\n",
       "        vertical-align: middle;\n",
       "    }\n",
       "\n",
       "    .dataframe tbody tr th {\n",
       "        vertical-align: top;\n",
       "    }\n",
       "\n",
       "    .dataframe thead th {\n",
       "        text-align: right;\n",
       "    }\n",
       "</style>\n",
       "<table border=\"1\" class=\"dataframe\">\n",
       "  <thead>\n",
       "    <tr style=\"text-align: right;\">\n",
       "      <th></th>\n",
       "      <th>percent_missing</th>\n",
       "    </tr>\n",
       "  </thead>\n",
       "  <tbody>\n",
       "    <tr>\n",
       "      <th>BuildingArea</th>\n",
       "      <td>60.576068</td>\n",
       "    </tr>\n",
       "    <tr>\n",
       "      <th>YearBuilt</th>\n",
       "      <td>55.386293</td>\n",
       "    </tr>\n",
       "    <tr>\n",
       "      <th>Landsize</th>\n",
       "      <td>33.881286</td>\n",
       "    </tr>\n",
       "    <tr>\n",
       "      <th>Car</th>\n",
       "      <td>25.039447</td>\n",
       "    </tr>\n",
       "    <tr>\n",
       "      <th>Bathroom</th>\n",
       "      <td>23.599277</td>\n",
       "    </tr>\n",
       "    <tr>\n",
       "      <th>Bedroom2</th>\n",
       "      <td>23.573457</td>\n",
       "    </tr>\n",
       "    <tr>\n",
       "      <th>Longtitude</th>\n",
       "      <td>22.882061</td>\n",
       "    </tr>\n",
       "    <tr>\n",
       "      <th>Lattitude</th>\n",
       "      <td>22.882061</td>\n",
       "    </tr>\n",
       "    <tr>\n",
       "      <th>Price</th>\n",
       "      <td>21.832057</td>\n",
       "    </tr>\n",
       "    <tr>\n",
       "      <th>Regionname</th>\n",
       "      <td>0.008607</td>\n",
       "    </tr>\n",
       "    <tr>\n",
       "      <th>CouncilArea</th>\n",
       "      <td>0.008607</td>\n",
       "    </tr>\n",
       "    <tr>\n",
       "      <th>Propertycount</th>\n",
       "      <td>0.008607</td>\n",
       "    </tr>\n",
       "    <tr>\n",
       "      <th>Postcode</th>\n",
       "      <td>0.002869</td>\n",
       "    </tr>\n",
       "    <tr>\n",
       "      <th>Distance</th>\n",
       "      <td>0.002869</td>\n",
       "    </tr>\n",
       "  </tbody>\n",
       "</table>\n",
       "</div>"
      ],
      "text/plain": [
       "               percent_missing\n",
       "BuildingArea         60.576068\n",
       "YearBuilt            55.386293\n",
       "Landsize             33.881286\n",
       "Car                  25.039447\n",
       "Bathroom             23.599277\n",
       "Bedroom2             23.573457\n",
       "Longtitude           22.882061\n",
       "Lattitude            22.882061\n",
       "Price                21.832057\n",
       "Regionname            0.008607\n",
       "CouncilArea           0.008607\n",
       "Propertycount         0.008607\n",
       "Postcode              0.002869\n",
       "Distance              0.002869"
      ]
     },
     "execution_count": 8,
     "metadata": {},
     "output_type": "execute_result"
    }
   ],
   "source": [
    "percent_missing = df.isnull().sum() * 100 / len(df)\n",
    "missing_value_df = pd.DataFrame({'percent_missing': percent_missing})\n",
    "missing_value_df.sort_values('percent_missing', inplace = True, ascending = False)\n",
    "missing_value_df[missing_value_df['percent_missing'] > 0]"
   ]
  },
  {
   "cell_type": "markdown",
   "id": "acadf5cf-0371-40ff-bb92-4622b47f2b91",
   "metadata": {},
   "source": [
    "1. Menghapus kolom BuildingArea"
   ]
  },
  {
   "cell_type": "code",
   "execution_count": 9,
   "id": "27afa9ae-504e-4a96-b7d5-3555cb0b3c14",
   "metadata": {},
   "outputs": [],
   "source": [
    "cols1 = df[['BuildingArea']]\n",
    "df = df.drop(cols1, axis = 1)"
   ]
  },
  {
   "cell_type": "markdown",
   "id": "79db06fc-ad53-4e5f-b29b-eee8f746de22",
   "metadata": {},
   "source": [
    "2. Mengisi missing values dari kolom YearBuilt dengan 0"
   ]
  },
  {
   "cell_type": "code",
   "execution_count": 10,
   "id": "e984f893-d025-476e-8f85-65e00ff35ca0",
   "metadata": {},
   "outputs": [],
   "source": [
    "df['YearBuilt'] = df['YearBuilt'].fillna(0)"
   ]
  },
  {
   "cell_type": "markdown",
   "id": "1b24ccd5-9491-4cac-9b7c-17f9f36753dc",
   "metadata": {},
   "source": [
    "3. Menghandle kolom dengan missing values < 1%"
   ]
  },
  {
   "cell_type": "code",
   "execution_count": 11,
   "id": "90522620-8520-44fa-ba83-3ac175d14df2",
   "metadata": {},
   "outputs": [
    {
     "data": {
      "text/html": [
       "<div>\n",
       "<style scoped>\n",
       "    .dataframe tbody tr th:only-of-type {\n",
       "        vertical-align: middle;\n",
       "    }\n",
       "\n",
       "    .dataframe tbody tr th {\n",
       "        vertical-align: top;\n",
       "    }\n",
       "\n",
       "    .dataframe thead th {\n",
       "        text-align: right;\n",
       "    }\n",
       "</style>\n",
       "<table border=\"1\" class=\"dataframe\">\n",
       "  <thead>\n",
       "    <tr style=\"text-align: right;\">\n",
       "      <th></th>\n",
       "      <th>Suburb</th>\n",
       "      <th>Address</th>\n",
       "      <th>Rooms</th>\n",
       "      <th>Type</th>\n",
       "      <th>Price</th>\n",
       "      <th>Method</th>\n",
       "      <th>SellerG</th>\n",
       "      <th>Date</th>\n",
       "      <th>Distance</th>\n",
       "      <th>Postcode</th>\n",
       "      <th>Bedroom2</th>\n",
       "      <th>Bathroom</th>\n",
       "      <th>Car</th>\n",
       "      <th>Landsize</th>\n",
       "      <th>YearBuilt</th>\n",
       "      <th>CouncilArea</th>\n",
       "      <th>Lattitude</th>\n",
       "      <th>Longtitude</th>\n",
       "      <th>Regionname</th>\n",
       "      <th>Propertycount</th>\n",
       "    </tr>\n",
       "  </thead>\n",
       "  <tbody>\n",
       "    <tr>\n",
       "      <th>18523</th>\n",
       "      <td>Footscray</td>\n",
       "      <td>2/16 Stafford St</td>\n",
       "      <td>2</td>\n",
       "      <td>u</td>\n",
       "      <td>710000.0</td>\n",
       "      <td>S</td>\n",
       "      <td>Jas</td>\n",
       "      <td>15/07/2017</td>\n",
       "      <td>5.1</td>\n",
       "      <td>3011.0</td>\n",
       "      <td>NaN</td>\n",
       "      <td>NaN</td>\n",
       "      <td>NaN</td>\n",
       "      <td>NaN</td>\n",
       "      <td>0.0</td>\n",
       "      <td>NaN</td>\n",
       "      <td>NaN</td>\n",
       "      <td>NaN</td>\n",
       "      <td>NaN</td>\n",
       "      <td>NaN</td>\n",
       "    </tr>\n",
       "    <tr>\n",
       "      <th>26888</th>\n",
       "      <td>Camberwell</td>\n",
       "      <td>2/3 Kingsley St</td>\n",
       "      <td>2</td>\n",
       "      <td>h</td>\n",
       "      <td>825000.0</td>\n",
       "      <td>VB</td>\n",
       "      <td>Jellis</td>\n",
       "      <td>11/11/2017</td>\n",
       "      <td>7.7</td>\n",
       "      <td>3124.0</td>\n",
       "      <td>NaN</td>\n",
       "      <td>NaN</td>\n",
       "      <td>NaN</td>\n",
       "      <td>NaN</td>\n",
       "      <td>0.0</td>\n",
       "      <td>NaN</td>\n",
       "      <td>NaN</td>\n",
       "      <td>NaN</td>\n",
       "      <td>NaN</td>\n",
       "      <td>NaN</td>\n",
       "    </tr>\n",
       "    <tr>\n",
       "      <th>29483</th>\n",
       "      <td>Fawkner Lot</td>\n",
       "      <td>1/3 Brian St</td>\n",
       "      <td>3</td>\n",
       "      <td>h</td>\n",
       "      <td>616000.0</td>\n",
       "      <td>SP</td>\n",
       "      <td>Brad</td>\n",
       "      <td>6/01/2018</td>\n",
       "      <td>NaN</td>\n",
       "      <td>NaN</td>\n",
       "      <td>NaN</td>\n",
       "      <td>NaN</td>\n",
       "      <td>NaN</td>\n",
       "      <td>NaN</td>\n",
       "      <td>0.0</td>\n",
       "      <td>NaN</td>\n",
       "      <td>NaN</td>\n",
       "      <td>NaN</td>\n",
       "      <td>NaN</td>\n",
       "      <td>NaN</td>\n",
       "    </tr>\n",
       "  </tbody>\n",
       "</table>\n",
       "</div>"
      ],
      "text/plain": [
       "            Suburb           Address  Rooms Type     Price Method SellerG  \\\n",
       "18523    Footscray  2/16 Stafford St      2    u  710000.0      S     Jas   \n",
       "26888   Camberwell   2/3 Kingsley St      2    h  825000.0     VB  Jellis   \n",
       "29483  Fawkner Lot      1/3 Brian St      3    h  616000.0     SP    Brad   \n",
       "\n",
       "             Date  Distance  Postcode  Bedroom2  Bathroom  Car  Landsize  \\\n",
       "18523  15/07/2017       5.1    3011.0       NaN       NaN  NaN       NaN   \n",
       "26888  11/11/2017       7.7    3124.0       NaN       NaN  NaN       NaN   \n",
       "29483   6/01/2018       NaN       NaN       NaN       NaN  NaN       NaN   \n",
       "\n",
       "       YearBuilt CouncilArea  Lattitude  Longtitude Regionname  Propertycount  \n",
       "18523        0.0         NaN        NaN         NaN        NaN            NaN  \n",
       "26888        0.0         NaN        NaN         NaN        NaN            NaN  \n",
       "29483        0.0         NaN        NaN         NaN        NaN            NaN  "
      ]
     },
     "execution_count": 11,
     "metadata": {},
     "output_type": "execute_result"
    }
   ],
   "source": [
    "df[df['Regionname'].isna()]"
   ]
  },
  {
   "cell_type": "markdown",
   "id": "66048f41-0462-4654-9ea5-09d8ce9fcbf8",
   "metadata": {},
   "source": [
    "Karena data fitur lain banyak yang merupakan missing values juga pada baris data missing value di Regionname, jadi missing values pada kolom Regionname dihapus."
   ]
  },
  {
   "cell_type": "code",
   "execution_count": 12,
   "id": "37f36038-a8db-4bdf-9589-18a862447821",
   "metadata": {},
   "outputs": [],
   "source": [
    "df = df.dropna(subset=['Regionname'], axis = 0)"
   ]
  },
  {
   "cell_type": "markdown",
   "id": "34092e24-5655-4333-a6a6-c9fe3ae9e641",
   "metadata": {},
   "source": [
    "4. Menghapus kolom Lattitude dan Longtitude"
   ]
  },
  {
   "cell_type": "code",
   "execution_count": 13,
   "id": "2df38884-4d28-47e3-a742-d7fe9e6e9961",
   "metadata": {
    "tags": []
   },
   "outputs": [],
   "source": [
    "df = df.drop(['Lattitude', 'Longtitude'], axis = 1)"
   ]
  },
  {
   "cell_type": "code",
   "execution_count": 14,
   "id": "69c2968a-23d0-48a2-a435-bc1b18c7cce5",
   "metadata": {},
   "outputs": [
    {
     "data": {
      "text/plain": [
       "Suburb               0\n",
       "Address              0\n",
       "Rooms                0\n",
       "Type                 0\n",
       "Price             7610\n",
       "Method               0\n",
       "SellerG              0\n",
       "Date                 0\n",
       "Distance             0\n",
       "Postcode             0\n",
       "Bedroom2          8214\n",
       "Bathroom          8223\n",
       "Car               8725\n",
       "Landsize         11807\n",
       "YearBuilt            0\n",
       "CouncilArea          0\n",
       "Regionname           0\n",
       "Propertycount        0\n",
       "dtype: int64"
      ]
     },
     "execution_count": 14,
     "metadata": {},
     "output_type": "execute_result"
    }
   ],
   "source": [
    "df.isna().sum()"
   ]
  },
  {
   "cell_type": "markdown",
   "id": "4f897361-4aa1-48a8-8cbe-3039b59dff54",
   "metadata": {},
   "source": [
    "**Cek korelasi**"
   ]
  },
  {
   "cell_type": "code",
   "execution_count": 15,
   "id": "98287006-232c-46e3-82ee-3b45836b9543",
   "metadata": {},
   "outputs": [],
   "source": [
    "df_cat = df.select_dtypes(['object'])\n",
    "df_con = df.drop(columns = df_cat.columns)"
   ]
  },
  {
   "cell_type": "code",
   "execution_count": 16,
   "id": "18a93210-bbe0-416c-a003-0afcbb898700",
   "metadata": {},
   "outputs": [
    {
     "data": {
      "image/png": "[encoded data removed]",
      "text/plain": [
       "<Figure size 576x576 with 2 Axes>"
      ]
     },
     "metadata": {
      "needs_background": "light"
     },
     "output_type": "display_data"
    }
   ],
   "source": [
    "f,ax = plt.subplots(figsize = (8,8))\n",
    "sns.heatmap(df_con.corr('spearman'), annot =False, linewidths=0.5, linecolor = \"white\", fmt=\".1f\", ax=ax)\n",
    "plt.show()"
   ]
  },
  {
   "cell_type": "markdown",
   "id": "0a1178d9-77ba-4c8b-a1e9-74336500cbc4",
   "metadata": {},
   "source": [
    "Melihat korelasi antar fitur"
   ]
  },
  {
   "cell_type": "markdown",
   "id": "d975ceaa-2327-4d37-9576-d7c85dd7fa8f",
   "metadata": {},
   "source": [
    "4. Missing values pada 'Bathroom'"
   ]
  },
  {
   "cell_type": "code",
   "execution_count": 17,
   "id": "0c39b7ef-1a3c-478b-b65b-a354f7769044",
   "metadata": {},
   "outputs": [
    {
     "data": {
      "text/html": [
       "<div>\n",
       "<style scoped>\n",
       "    .dataframe tbody tr th:only-of-type {\n",
       "        vertical-align: middle;\n",
       "    }\n",
       "\n",
       "    .dataframe tbody tr th {\n",
       "        vertical-align: top;\n",
       "    }\n",
       "\n",
       "    .dataframe thead th {\n",
       "        text-align: right;\n",
       "    }\n",
       "</style>\n",
       "<table border=\"1\" class=\"dataframe\">\n",
       "  <thead>\n",
       "    <tr style=\"text-align: right;\">\n",
       "      <th></th>\n",
       "      <th>Correlation Coefficient</th>\n",
       "    </tr>\n",
       "  </thead>\n",
       "  <tbody>\n",
       "    <tr>\n",
       "      <th>Bathroom</th>\n",
       "      <td>1.000000</td>\n",
       "    </tr>\n",
       "    <tr>\n",
       "      <th>Rooms</th>\n",
       "      <td>0.615242</td>\n",
       "    </tr>\n",
       "    <tr>\n",
       "      <th>Bedroom2</th>\n",
       "      <td>0.611565</td>\n",
       "    </tr>\n",
       "    <tr>\n",
       "      <th>Car</th>\n",
       "      <td>0.372878</td>\n",
       "    </tr>\n",
       "    <tr>\n",
       "      <th>Price</th>\n",
       "      <td>0.372804</td>\n",
       "    </tr>\n",
       "  </tbody>\n",
       "</table>\n",
       "</div>"
      ],
      "text/plain": [
       "          Correlation Coefficient\n",
       "Bathroom                 1.000000\n",
       "Rooms                    0.615242\n",
       "Bedroom2                 0.611565\n",
       "Car                      0.372878\n",
       "Price                    0.372804"
      ]
     },
     "execution_count": 17,
     "metadata": {},
     "output_type": "execute_result"
    }
   ],
   "source": [
    "con_corr = df_con.corr('spearman')\n",
    "con_corra_table = con_corr['Bathroom'].sort_values(ascending = False).drop_duplicates().to_frame()\n",
    "con_corra_table.columns = ['Correlation Coefficient']\n",
    "con_corra_table.head()"
   ]
  },
  {
   "cell_type": "code",
   "execution_count": 18,
   "id": "bed52cf5-29d0-4faa-8dea-c67c5a4b4f7d",
   "metadata": {},
   "outputs": [],
   "source": [
    "df.loc[df.Bathroom.isnull(), 'Bathroom']  = df.groupby('Rooms')['Bathroom'].transform(lambda x: x.fillna(x.mean()))"
   ]
  },
  {
   "cell_type": "markdown",
   "id": "51fa7f56-84b8-47e7-8db9-c4e3e6e9dd2a",
   "metadata": {},
   "source": [
    "5. Missing values pada Bedroom2"
   ]
  },
  {
   "cell_type": "code",
   "execution_count": 19,
   "id": "237544cb-746f-4eb2-8f70-39eb07e2e4d8",
   "metadata": {},
   "outputs": [
    {
     "data": {
      "text/html": [
       "<div>\n",
       "<style scoped>\n",
       "    .dataframe tbody tr th:only-of-type {\n",
       "        vertical-align: middle;\n",
       "    }\n",
       "\n",
       "    .dataframe tbody tr th {\n",
       "        vertical-align: top;\n",
       "    }\n",
       "\n",
       "    .dataframe thead th {\n",
       "        text-align: right;\n",
       "    }\n",
       "</style>\n",
       "<table border=\"1\" class=\"dataframe\">\n",
       "  <thead>\n",
       "    <tr style=\"text-align: right;\">\n",
       "      <th></th>\n",
       "      <th>Correlation Coefficient</th>\n",
       "    </tr>\n",
       "  </thead>\n",
       "  <tbody>\n",
       "    <tr>\n",
       "      <th>Bedroom2</th>\n",
       "      <td>1.000000</td>\n",
       "    </tr>\n",
       "    <tr>\n",
       "      <th>Rooms</th>\n",
       "      <td>0.970020</td>\n",
       "    </tr>\n",
       "    <tr>\n",
       "      <th>Bathroom</th>\n",
       "      <td>0.611565</td>\n",
       "    </tr>\n",
       "    <tr>\n",
       "      <th>Car</th>\n",
       "      <td>0.474742</td>\n",
       "    </tr>\n",
       "    <tr>\n",
       "      <th>Landsize</th>\n",
       "      <td>0.471770</td>\n",
       "    </tr>\n",
       "  </tbody>\n",
       "</table>\n",
       "</div>"
      ],
      "text/plain": [
       "          Correlation Coefficient\n",
       "Bedroom2                 1.000000\n",
       "Rooms                    0.970020\n",
       "Bathroom                 0.611565\n",
       "Car                      0.474742\n",
       "Landsize                 0.471770"
      ]
     },
     "execution_count": 19,
     "metadata": {},
     "output_type": "execute_result"
    }
   ],
   "source": [
    "con_corra_table = con_corr['Bedroom2'].sort_values(ascending = False).drop_duplicates().to_frame()\n",
    "con_corra_table.columns = ['Correlation Coefficient']\n",
    "con_corra_table.head()"
   ]
  },
  {
   "cell_type": "code",
   "execution_count": 20,
   "id": "da4431b1-6e80-4477-b145-3defc605a6dc",
   "metadata": {},
   "outputs": [],
   "source": [
    "df.loc[df.Bedroom2.isnull(), 'Bedroom2']  = df.groupby('Rooms')['Bedroom2'].transform(lambda x: x.fillna(x.mean()))"
   ]
  },
  {
   "cell_type": "markdown",
   "id": "6ee4ea15-eb42-41e7-93c4-5873b7e51f7f",
   "metadata": {},
   "source": [
    "5. Missing values pada kolom Car"
   ]
  },
  {
   "cell_type": "code",
   "execution_count": 21,
   "id": "7f10ccfb-a118-4ed0-870b-da232805015e",
   "metadata": {},
   "outputs": [
    {
     "data": {
      "text/html": [
       "<div>\n",
       "<style scoped>\n",
       "    .dataframe tbody tr th:only-of-type {\n",
       "        vertical-align: middle;\n",
       "    }\n",
       "\n",
       "    .dataframe tbody tr th {\n",
       "        vertical-align: top;\n",
       "    }\n",
       "\n",
       "    .dataframe thead th {\n",
       "        text-align: right;\n",
       "    }\n",
       "</style>\n",
       "<table border=\"1\" class=\"dataframe\">\n",
       "  <thead>\n",
       "    <tr style=\"text-align: right;\">\n",
       "      <th></th>\n",
       "      <th>Correlation Coefficient</th>\n",
       "    </tr>\n",
       "  </thead>\n",
       "  <tbody>\n",
       "    <tr>\n",
       "      <th>Car</th>\n",
       "      <td>1.000000</td>\n",
       "    </tr>\n",
       "    <tr>\n",
       "      <th>Bedroom2</th>\n",
       "      <td>0.474742</td>\n",
       "    </tr>\n",
       "    <tr>\n",
       "      <th>Rooms</th>\n",
       "      <td>0.471188</td>\n",
       "    </tr>\n",
       "    <tr>\n",
       "      <th>Landsize</th>\n",
       "      <td>0.409892</td>\n",
       "    </tr>\n",
       "    <tr>\n",
       "      <th>Bathroom</th>\n",
       "      <td>0.372878</td>\n",
       "    </tr>\n",
       "  </tbody>\n",
       "</table>\n",
       "</div>"
      ],
      "text/plain": [
       "          Correlation Coefficient\n",
       "Car                      1.000000\n",
       "Bedroom2                 0.474742\n",
       "Rooms                    0.471188\n",
       "Landsize                 0.409892\n",
       "Bathroom                 0.372878"
      ]
     },
     "execution_count": 21,
     "metadata": {},
     "output_type": "execute_result"
    }
   ],
   "source": [
    "con_corra_table = con_corr['Car'].sort_values(ascending = False).drop_duplicates().to_frame()\n",
    "con_corra_table.columns = ['Correlation Coefficient']\n",
    "con_corra_table.head()"
   ]
  },
  {
   "cell_type": "code",
   "execution_count": 22,
   "id": "5591da4d-7a86-490c-ba00-3614a8511dfd",
   "metadata": {
    "tags": []
   },
   "outputs": [
    {
     "data": {
      "text/plain": [
       "Type  Car \n",
       "h     2.0     10436\n",
       "      1.0      5112\n",
       "      3.0      1528\n",
       "      0.0      1371\n",
       "      4.0      1137\n",
       "      5.0       148\n",
       "      6.0       139\n",
       "      7.0        24\n",
       "      8.0        23\n",
       "      10.0        6\n",
       "      9.0         3\n",
       "      11.0        2\n",
       "      12.0        1\n",
       "      18.0        1\n",
       "      26.0        1\n",
       "t     2.0      1058\n",
       "      1.0       800\n",
       "      3.0        42\n",
       "      0.0        24\n",
       "      4.0        16\n",
       "      5.0         1\n",
       "u     1.0      3252\n",
       "      2.0       720\n",
       "      0.0       236\n",
       "      3.0        36\n",
       "      4.0         8\n",
       "      5.0         2\n",
       "      6.0         1\n",
       "      7.0         1\n",
       "Name: Car, dtype: int64"
      ]
     },
     "execution_count": 22,
     "metadata": {},
     "output_type": "execute_result"
    }
   ],
   "source": [
    "df.groupby('Type')['Car'].value_counts()"
   ]
  },
  {
   "cell_type": "code",
   "execution_count": 23,
   "id": "a410f3b9-7af5-4412-ad09-0396127f389e",
   "metadata": {},
   "outputs": [],
   "source": [
    "df.loc[df.Car.isnull(), 'Car']  = df.groupby('Type')['Car'].transform(lambda x: x.fillna(x.mean()))"
   ]
  },
  {
   "cell_type": "markdown",
   "id": "890a76c8-1f2e-4a74-b93a-ebd162c6a4c9",
   "metadata": {},
   "source": [
    "6. Missing values pada kolom Landsize"
   ]
  },
  {
   "cell_type": "code",
   "execution_count": 24,
   "id": "5203466c-de3a-4088-9542-ddbfa4dd590e",
   "metadata": {},
   "outputs": [
    {
     "data": {
      "text/html": [
       "<div>\n",
       "<style scoped>\n",
       "    .dataframe tbody tr th:only-of-type {\n",
       "        vertical-align: middle;\n",
       "    }\n",
       "\n",
       "    .dataframe tbody tr th {\n",
       "        vertical-align: top;\n",
       "    }\n",
       "\n",
       "    .dataframe thead th {\n",
       "        text-align: right;\n",
       "    }\n",
       "</style>\n",
       "<table border=\"1\" class=\"dataframe\">\n",
       "  <thead>\n",
       "    <tr style=\"text-align: right;\">\n",
       "      <th></th>\n",
       "      <th>Correlation Coefficient</th>\n",
       "    </tr>\n",
       "  </thead>\n",
       "  <tbody>\n",
       "    <tr>\n",
       "      <th>Landsize</th>\n",
       "      <td>1.000000</td>\n",
       "    </tr>\n",
       "    <tr>\n",
       "      <th>Rooms</th>\n",
       "      <td>0.473969</td>\n",
       "    </tr>\n",
       "    <tr>\n",
       "      <th>Bedroom2</th>\n",
       "      <td>0.471770</td>\n",
       "    </tr>\n",
       "    <tr>\n",
       "      <th>Distance</th>\n",
       "      <td>0.433028</td>\n",
       "    </tr>\n",
       "    <tr>\n",
       "      <th>Car</th>\n",
       "      <td>0.409892</td>\n",
       "    </tr>\n",
       "  </tbody>\n",
       "</table>\n",
       "</div>"
      ],
      "text/plain": [
       "          Correlation Coefficient\n",
       "Landsize                 1.000000\n",
       "Rooms                    0.473969\n",
       "Bedroom2                 0.471770\n",
       "Distance                 0.433028\n",
       "Car                      0.409892"
      ]
     },
     "execution_count": 24,
     "metadata": {},
     "output_type": "execute_result"
    }
   ],
   "source": [
    "con_corra_table = con_corr['Landsize'].sort_values(ascending = False).drop_duplicates().to_frame()\n",
    "con_corra_table.columns = ['Correlation Coefficient']\n",
    "con_corra_table.head()"
   ]
  },
  {
   "cell_type": "code",
   "execution_count": 25,
   "id": "9ecafb40-2118-4e95-ad5c-72b5c0c7137b",
   "metadata": {},
   "outputs": [],
   "source": [
    "df1 = df.dropna(subset = ['Landsize'], axis = 0)"
   ]
  },
  {
   "cell_type": "code",
   "execution_count": 26,
   "id": "582247be-1934-4f5d-ad37-ba3ebac47ba1",
   "metadata": {},
   "outputs": [
    {
     "name": "stdout",
     "output_type": "stream",
     "text": [
      "P-Value :  3.717354205633393e-05\n"
     ]
    }
   ],
   "source": [
    "# cek apakah kolom Type dan Landsize memiliki korelasi menggunakan ANOVA  \n",
    "# asumsi H0 yaitu Type tidak berkorelasi dengan Landsize\n",
    "CategoryGroupLists1 = df1.groupby('Type')['Landsize'].apply(list)\n",
    "\n",
    "# Performing the ANOVA test\n",
    "# Terima H0 jika p-value > 0.05\n",
    "AnovaResults1 = f_oneway(*CategoryGroupLists1)\n",
    "print('P-Value : ', AnovaResults1[1])"
   ]
  },
  {
   "cell_type": "code",
   "execution_count": 27,
   "id": "a0398520-4513-4097-b92d-99c6f50733a0",
   "metadata": {},
   "outputs": [],
   "source": [
    "df.loc[df.Landsize.isnull(), 'Landsize']  = df.groupby('Type')['Landsize'].transform(lambda x: x.fillna(x.mean()))"
   ]
  },
  {
   "cell_type": "code",
   "execution_count": 28,
   "id": "c647598e-03a0-4914-a2e7-bf70cc652dad",
   "metadata": {},
   "outputs": [
    {
     "data": {
      "text/plain": [
       "Suburb              0\n",
       "Address             0\n",
       "Rooms               0\n",
       "Type                0\n",
       "Price            7610\n",
       "Method              0\n",
       "SellerG             0\n",
       "Date                0\n",
       "Distance            0\n",
       "Postcode            0\n",
       "Bedroom2            0\n",
       "Bathroom            0\n",
       "Car                 0\n",
       "Landsize            0\n",
       "YearBuilt           0\n",
       "CouncilArea         0\n",
       "Regionname          0\n",
       "Propertycount       0\n",
       "dtype: int64"
      ]
     },
     "execution_count": 28,
     "metadata": {},
     "output_type": "execute_result"
    }
   ],
   "source": [
    "df.isna().sum()"
   ]
  },
  {
   "cell_type": "markdown",
   "id": "ee32a055-2955-4cbc-8d8b-fcf46c523682",
   "metadata": {},
   "source": [
    "7. Missing values pada kolom Price"
   ]
  },
  {
   "cell_type": "code",
   "execution_count": 29,
   "id": "fd9b34bd-7d50-4c30-86c0-e1bb7214788c",
   "metadata": {},
   "outputs": [],
   "source": [
    "df = df.dropna(subset = ['Price'], axis = 0)"
   ]
  },
  {
   "cell_type": "code",
   "execution_count": 30,
   "id": "b8e50987-a9d8-4270-9faa-f49cc627a0d4",
   "metadata": {},
   "outputs": [
    {
     "data": {
      "text/plain": [
       "Suburb           False\n",
       "Address          False\n",
       "Rooms            False\n",
       "Type             False\n",
       "Price            False\n",
       "Method           False\n",
       "SellerG          False\n",
       "Date             False\n",
       "Distance         False\n",
       "Postcode         False\n",
       "Bedroom2         False\n",
       "Bathroom         False\n",
       "Car              False\n",
       "Landsize         False\n",
       "YearBuilt        False\n",
       "CouncilArea      False\n",
       "Regionname       False\n",
       "Propertycount    False\n",
       "dtype: bool"
      ]
     },
     "execution_count": 30,
     "metadata": {},
     "output_type": "execute_result"
    }
   ],
   "source": [
    "df.isna().any()"
   ]
  },
  {
   "cell_type": "markdown",
   "id": "3d1bc9a4-090c-477e-a872-5a0503a30917",
   "metadata": {},
   "source": [
    "### Outliers"
   ]
  },
  {
   "cell_type": "code",
   "execution_count": 31,
   "id": "7545426e-1892-4b7a-bb6d-f2a14e9c9588",
   "metadata": {},
   "outputs": [],
   "source": [
    "cols = ['Rooms', 'Price', 'Distance', 'Bedroom2', 'Bathroom', 'Car', 'Landsize', 'Propertycount']"
   ]
  },
  {
   "cell_type": "code",
   "execution_count": 32,
   "id": "47d856e7-b783-41db-80da-84c475b8740b",
   "metadata": {},
   "outputs": [
    {
     "data": {
      "image/png": "[encoded data removed]",
      "text/plain": [
       "<Figure size 1080x720 with 9 Axes>"
      ]
     },
     "metadata": {
      "needs_background": "light"
     },
     "output_type": "display_data"
    }
   ],
   "source": [
    "df[cols].hist(figsize=(15,10), color = 'green');"
   ]
  },
  {
   "cell_type": "code",
   "execution_count": 33,
   "id": "1204b2df-cabb-4dd8-8949-c86769f3e0c8",
   "metadata": {},
   "outputs": [],
   "source": [
    "cols_n = ['Rooms', 'Distance', 'Bedroom2', 'Bathroom', 'Car', 'Landsize', 'Propertycount']"
   ]
  },
  {
   "cell_type": "code",
   "execution_count": 34,
   "id": "3fc432fa-3eb5-44da-842b-9496d31d2846",
   "metadata": {
    "tags": []
   },
   "outputs": [
    {
     "data": {
      "image/png": "[encoded data removed]",
      "text/plain": [
       "<Figure size 864x576 with 1 Axes>"
      ]
     },
     "metadata": {
      "needs_background": "light"
     },
     "output_type": "display_data"
    }
   ],
   "source": [
    "df[cols_n].boxplot(figsize=(12,8), color = 'green');"
   ]
  },
  {
   "cell_type": "markdown",
   "id": "5e960928-12da-4b91-8f9c-130103b8374c",
   "metadata": {},
   "source": [
    "Terdapat outlier pada kolom Landsize dan Propertycount"
   ]
  },
  {
   "cell_type": "markdown",
   "id": "1dc4d2e9-7b08-4ed0-89df-89b56901c15e",
   "metadata": {},
   "source": [
    "1. Kolom Landsize"
   ]
  },
  {
   "cell_type": "code",
   "execution_count": 35,
   "id": "e9196c97-c4f4-40a9-bbd4-8e8aabd2bfde",
   "metadata": {},
   "outputs": [
    {
     "data": {
      "text/plain": [
       "Text(0.5, 1.0, 'Sebelum handling outlier')"
      ]
     },
     "execution_count": 35,
     "metadata": {},
     "output_type": "execute_result"
    },
    {
     "data": {
      "image/png": "[encoded data removed]",
      "text/plain": [
       "<Figure size 216x288 with 1 Axes>"
      ]
     },
     "metadata": {
      "needs_background": "light"
     },
     "output_type": "display_data"
    }
   ],
   "source": [
    "plt.figure(figsize=(3,4))\n",
    "sns.boxplot(data = df, y='Landsize')\n",
    "plt.title('Sebelum handling outlier')"
   ]
  },
  {
   "cell_type": "code",
   "execution_count": 36,
   "id": "c0fd5117-9fa6-417e-98e4-830288a861ba",
   "metadata": {},
   "outputs": [],
   "source": [
    "for x in ['Landsize']:\n",
    "    q75,q25 = np.percentile(df.loc[:,x],[75,25])\n",
    "    intr_qr = q75-q25\n",
    " \n",
    "    upper_bound = q75+(1.5*intr_qr)\n",
    "    lower_bound = q25-(1.5*intr_qr)\n",
    " \n",
    "    df.loc[df[x] < lower_bound,x] = lower_bound\n",
    "    df.loc[df[x] > upper_bound,x] = upper_bound"
   ]
  },
  {
   "cell_type": "code",
   "execution_count": 37,
   "id": "14384fd8-20c9-4e78-89d6-61122a7e4dd1",
   "metadata": {},
   "outputs": [
    {
     "data": {
      "text/plain": [
       "Text(0.5, 1.0, 'Setelah handling outlier')"
      ]
     },
     "execution_count": 37,
     "metadata": {},
     "output_type": "execute_result"
    },
    {
     "data": {
      "image/png": "[encoded data removed]",
      "text/plain": [
       "<Figure size 216x288 with 1 Axes>"
      ]
     },
     "metadata": {
      "needs_background": "light"
     },
     "output_type": "display_data"
    }
   ],
   "source": [
    "plt.figure(figsize=(3,4))\n",
    "sns.boxplot(data = df, y='Landsize')\n",
    "plt.title('Setelah handling outlier')"
   ]
  },
  {
   "cell_type": "markdown",
   "id": "8b3c8652-37b9-41d7-8bd8-0082df97a286",
   "metadata": {},
   "source": [
    "2. Kolom Propertycount"
   ]
  },
  {
   "cell_type": "code",
   "execution_count": 38,
   "id": "fd257cbc-c356-4df7-bff9-59c053e6c66d",
   "metadata": {},
   "outputs": [
    {
     "data": {
      "text/plain": [
       "Text(0.5, 1.0, 'Sebelum handling outlier')"
      ]
     },
     "execution_count": 38,
     "metadata": {},
     "output_type": "execute_result"
    },
    {
     "data": {
      "image/png": "[encoded data removed]",
      "text/plain": [
       "<Figure size 216x288 with 1 Axes>"
      ]
     },
     "metadata": {
      "needs_background": "light"
     },
     "output_type": "display_data"
    }
   ],
   "source": [
    "plt.figure(figsize=(3,4))\n",
    "sns.boxplot(data = df, y='Propertycount')\n",
    "plt.title('Sebelum handling outlier')"
   ]
  },
  {
   "cell_type": "markdown",
   "id": "09a10fd5-0519-4899-a71b-8062aa2ca0c4",
   "metadata": {},
   "source": [
    "Memfilter value Propertycount < 20000"
   ]
  },
  {
   "cell_type": "code",
   "execution_count": 39,
   "id": "8f3476d7-ef06-4e9c-afad-ed55e116ee2a",
   "metadata": {},
   "outputs": [],
   "source": [
    "df = df.loc[df['Propertycount'] < 20000]"
   ]
  },
  {
   "cell_type": "code",
   "execution_count": 40,
   "id": "1112b0e1-1922-4fe3-ba24-bc8e93b45d3b",
   "metadata": {},
   "outputs": [
    {
     "data": {
      "text/plain": [
       "Text(0.5, 1.0, 'Setelah handling outlier')"
      ]
     },
     "execution_count": 40,
     "metadata": {},
     "output_type": "execute_result"
    },
    {
     "data": {
      "image/png": "[encoded data removed]",
      "text/plain": [
       "<Figure size 216x288 with 1 Axes>"
      ]
     },
     "metadata": {
      "needs_background": "light"
     },
     "output_type": "display_data"
    }
   ],
   "source": [
    "plt.figure(figsize=(3,4))\n",
    "sns.boxplot(data = df, y='Propertycount')\n",
    "plt.title('Setelah handling outlier')"
   ]
  },
  {
   "cell_type": "code",
   "execution_count": 41,
   "id": "c1e94fb5-047b-4aa3-8353-a5d1ef564d0d",
   "metadata": {},
   "outputs": [
    {
     "data": {
      "image/png": "[encoded data removed]",
      "text/plain": [
       "<Figure size 1080x720 with 9 Axes>"
      ]
     },
     "metadata": {
      "needs_background": "light"
     },
     "output_type": "display_data"
    }
   ],
   "source": [
    "df[cols].hist(figsize=(15,10), color = 'green');"
   ]
  },
  {
   "cell_type": "markdown",
   "id": "37f9aa78-09af-4fb6-8f60-2341a9ad9902",
   "metadata": {
    "tags": []
   },
   "source": [
    "## FEATURE ENGINEERING"
   ]
  },
  {
   "cell_type": "code",
   "execution_count": 42,
   "id": "9749248f-9378-4610-bacd-3b7fb82163c4",
   "metadata": {},
   "outputs": [
    {
     "data": {
      "text/html": [
       "<div>\n",
       "<style scoped>\n",
       "    .dataframe tbody tr th:only-of-type {\n",
       "        vertical-align: middle;\n",
       "    }\n",
       "\n",
       "    .dataframe tbody tr th {\n",
       "        vertical-align: top;\n",
       "    }\n",
       "\n",
       "    .dataframe thead th {\n",
       "        text-align: right;\n",
       "    }\n",
       "</style>\n",
       "<table border=\"1\" class=\"dataframe\">\n",
       "  <thead>\n",
       "    <tr style=\"text-align: right;\">\n",
       "      <th></th>\n",
       "      <th>Suburb</th>\n",
       "      <th>Address</th>\n",
       "      <th>Rooms</th>\n",
       "      <th>Type</th>\n",
       "      <th>Price</th>\n",
       "      <th>Method</th>\n",
       "      <th>SellerG</th>\n",
       "      <th>Date</th>\n",
       "      <th>Distance</th>\n",
       "      <th>Postcode</th>\n",
       "      <th>Bedroom2</th>\n",
       "      <th>Bathroom</th>\n",
       "      <th>Car</th>\n",
       "      <th>Landsize</th>\n",
       "      <th>YearBuilt</th>\n",
       "      <th>CouncilArea</th>\n",
       "      <th>Regionname</th>\n",
       "      <th>Propertycount</th>\n",
       "    </tr>\n",
       "  </thead>\n",
       "  <tbody>\n",
       "    <tr>\n",
       "      <th>1</th>\n",
       "      <td>Abbotsford</td>\n",
       "      <td>85 Turner St</td>\n",
       "      <td>2</td>\n",
       "      <td>h</td>\n",
       "      <td>1480000.0</td>\n",
       "      <td>S</td>\n",
       "      <td>Biggin</td>\n",
       "      <td>3/12/2016</td>\n",
       "      <td>2.5</td>\n",
       "      <td>3067.0</td>\n",
       "      <td>2.0</td>\n",
       "      <td>1.0</td>\n",
       "      <td>1.0</td>\n",
       "      <td>202.0</td>\n",
       "      <td>0.0</td>\n",
       "      <td>Yarra City Council</td>\n",
       "      <td>Northern Metropolitan</td>\n",
       "      <td>4019.0</td>\n",
       "    </tr>\n",
       "    <tr>\n",
       "      <th>2</th>\n",
       "      <td>Abbotsford</td>\n",
       "      <td>25 Bloomburg St</td>\n",
       "      <td>2</td>\n",
       "      <td>h</td>\n",
       "      <td>1035000.0</td>\n",
       "      <td>S</td>\n",
       "      <td>Biggin</td>\n",
       "      <td>4/02/2016</td>\n",
       "      <td>2.5</td>\n",
       "      <td>3067.0</td>\n",
       "      <td>2.0</td>\n",
       "      <td>1.0</td>\n",
       "      <td>0.0</td>\n",
       "      <td>156.0</td>\n",
       "      <td>1900.0</td>\n",
       "      <td>Yarra City Council</td>\n",
       "      <td>Northern Metropolitan</td>\n",
       "      <td>4019.0</td>\n",
       "    </tr>\n",
       "    <tr>\n",
       "      <th>4</th>\n",
       "      <td>Abbotsford</td>\n",
       "      <td>5 Charles St</td>\n",
       "      <td>3</td>\n",
       "      <td>h</td>\n",
       "      <td>1465000.0</td>\n",
       "      <td>SP</td>\n",
       "      <td>Biggin</td>\n",
       "      <td>4/03/2017</td>\n",
       "      <td>2.5</td>\n",
       "      <td>3067.0</td>\n",
       "      <td>3.0</td>\n",
       "      <td>2.0</td>\n",
       "      <td>0.0</td>\n",
       "      <td>134.0</td>\n",
       "      <td>1900.0</td>\n",
       "      <td>Yarra City Council</td>\n",
       "      <td>Northern Metropolitan</td>\n",
       "      <td>4019.0</td>\n",
       "    </tr>\n",
       "    <tr>\n",
       "      <th>5</th>\n",
       "      <td>Abbotsford</td>\n",
       "      <td>40 Federation La</td>\n",
       "      <td>3</td>\n",
       "      <td>h</td>\n",
       "      <td>850000.0</td>\n",
       "      <td>PI</td>\n",
       "      <td>Biggin</td>\n",
       "      <td>4/03/2017</td>\n",
       "      <td>2.5</td>\n",
       "      <td>3067.0</td>\n",
       "      <td>3.0</td>\n",
       "      <td>2.0</td>\n",
       "      <td>1.0</td>\n",
       "      <td>94.0</td>\n",
       "      <td>0.0</td>\n",
       "      <td>Yarra City Council</td>\n",
       "      <td>Northern Metropolitan</td>\n",
       "      <td>4019.0</td>\n",
       "    </tr>\n",
       "    <tr>\n",
       "      <th>6</th>\n",
       "      <td>Abbotsford</td>\n",
       "      <td>55a Park St</td>\n",
       "      <td>4</td>\n",
       "      <td>h</td>\n",
       "      <td>1600000.0</td>\n",
       "      <td>VB</td>\n",
       "      <td>Nelson</td>\n",
       "      <td>4/06/2016</td>\n",
       "      <td>2.5</td>\n",
       "      <td>3067.0</td>\n",
       "      <td>3.0</td>\n",
       "      <td>1.0</td>\n",
       "      <td>2.0</td>\n",
       "      <td>120.0</td>\n",
       "      <td>2014.0</td>\n",
       "      <td>Yarra City Council</td>\n",
       "      <td>Northern Metropolitan</td>\n",
       "      <td>4019.0</td>\n",
       "    </tr>\n",
       "  </tbody>\n",
       "</table>\n",
       "</div>"
      ],
      "text/plain": [
       "       Suburb           Address  Rooms Type      Price Method SellerG  \\\n",
       "1  Abbotsford      85 Turner St      2    h  1480000.0      S  Biggin   \n",
       "2  Abbotsford   25 Bloomburg St      2    h  1035000.0      S  Biggin   \n",
       "4  Abbotsford      5 Charles St      3    h  1465000.0     SP  Biggin   \n",
       "5  Abbotsford  40 Federation La      3    h   850000.0     PI  Biggin   \n",
       "6  Abbotsford       55a Park St      4    h  1600000.0     VB  Nelson   \n",
       "\n",
       "        Date  Distance  Postcode  Bedroom2  Bathroom  Car  Landsize  \\\n",
       "1  3/12/2016       2.5    3067.0       2.0       1.0  1.0     202.0   \n",
       "2  4/02/2016       2.5    3067.0       2.0       1.0  0.0     156.0   \n",
       "4  4/03/2017       2.5    3067.0       3.0       2.0  0.0     134.0   \n",
       "5  4/03/2017       2.5    3067.0       3.0       2.0  1.0      94.0   \n",
       "6  4/06/2016       2.5    3067.0       3.0       1.0  2.0     120.0   \n",
       "\n",
       "   YearBuilt         CouncilArea             Regionname  Propertycount  \n",
       "1        0.0  Yarra City Council  Northern Metropolitan         4019.0  \n",
       "2     1900.0  Yarra City Council  Northern Metropolitan         4019.0  \n",
       "4     1900.0  Yarra City Council  Northern Metropolitan         4019.0  \n",
       "5        0.0  Yarra City Council  Northern Metropolitan         4019.0  \n",
       "6     2014.0  Yarra City Council  Northern Metropolitan         4019.0  "
      ]
     },
     "execution_count": 42,
     "metadata": {},
     "output_type": "execute_result"
    }
   ],
   "source": [
    "df.head()"
   ]
  },
  {
   "cell_type": "code",
   "execution_count": 43,
   "id": "59cac3dc-d9c9-455f-b088-4115b5a3b384",
   "metadata": {},
   "outputs": [
    {
     "name": "stdout",
     "output_type": "stream",
     "text": [
      "<class 'pandas.core.frame.DataFrame'>\n",
      "Int64Index: 26517 entries, 1 to 34856\n",
      "Data columns (total 18 columns):\n",
      " #   Column         Non-Null Count  Dtype  \n",
      "---  ------         --------------  -----  \n",
      " 0   Suburb         26517 non-null  object \n",
      " 1   Address        26517 non-null  object \n",
      " 2   Rooms          26517 non-null  int64  \n",
      " 3   Type           26517 non-null  object \n",
      " 4   Price          26517 non-null  float64\n",
      " 5   Method         26517 non-null  object \n",
      " 6   SellerG        26517 non-null  object \n",
      " 7   Date           26517 non-null  object \n",
      " 8   Distance       26517 non-null  float64\n",
      " 9   Postcode       26517 non-null  float64\n",
      " 10  Bedroom2       26517 non-null  float64\n",
      " 11  Bathroom       26517 non-null  float64\n",
      " 12  Car            26517 non-null  float64\n",
      " 13  Landsize       26517 non-null  float64\n",
      " 14  YearBuilt      26517 non-null  float64\n",
      " 15  CouncilArea    26517 non-null  object \n",
      " 16  Regionname     26517 non-null  object \n",
      " 17  Propertycount  26517 non-null  float64\n",
      "dtypes: float64(9), int64(1), object(8)\n",
      "memory usage: 3.8+ MB\n"
     ]
    }
   ],
   "source": [
    "df.info()"
   ]
  },
  {
   "cell_type": "code",
   "execution_count": 44,
   "id": "69af873c-e255-4741-9c72-17bfb86007ca",
   "metadata": {},
   "outputs": [
    {
     "data": {
      "text/plain": [
       "Suburb           False\n",
       "Address          False\n",
       "Rooms            False\n",
       "Type             False\n",
       "Price            False\n",
       "Method           False\n",
       "SellerG          False\n",
       "Date             False\n",
       "Distance         False\n",
       "Postcode         False\n",
       "Bedroom2         False\n",
       "Bathroom         False\n",
       "Car              False\n",
       "Landsize         False\n",
       "YearBuilt        False\n",
       "CouncilArea      False\n",
       "Regionname       False\n",
       "Propertycount    False\n",
       "dtype: bool"
      ]
     },
     "execution_count": 44,
     "metadata": {},
     "output_type": "execute_result"
    }
   ],
   "source": [
    "df.isna().any()"
   ]
  },
  {
   "cell_type": "markdown",
   "id": "de8b746e-c539-481d-a1f8-7b92659317f3",
   "metadata": {
    "jp-MarkdownHeadingCollapsed": true,
    "tags": []
   },
   "source": [
    "### ENCODING"
   ]
  },
  {
   "cell_type": "markdown",
   "id": "080da836-65ad-47cd-b16b-a6de56ae8d85",
   "metadata": {
    "tags": []
   },
   "source": [
    "#### Kolom Type"
   ]
  },
  {
   "cell_type": "code",
   "execution_count": 45,
   "id": "95658f11-0caa-45ba-96a0-086cdde6c412",
   "metadata": {},
   "outputs": [
    {
     "data": {
      "text/plain": [
       "3"
      ]
     },
     "execution_count": 45,
     "metadata": {},
     "output_type": "execute_result"
    }
   ],
   "source": [
    "df['Type'].nunique()"
   ]
  },
  {
   "cell_type": "code",
   "execution_count": 46,
   "id": "0e2bda82-85f6-4660-8f5d-acd5d107f41c",
   "metadata": {},
   "outputs": [],
   "source": [
    "dummies_type = pd.get_dummies(df.Type, prefix = 'Type', drop_first = True)\n",
    "df = pd.concat([df, dummies_type], axis = 1)\n",
    "df = df.drop('Type', axis = 1)"
   ]
  },
  {
   "cell_type": "markdown",
   "id": "2d7cbd15-4860-47b8-960c-6be2e41f01d5",
   "metadata": {},
   "source": [
    "#### Kolom Method"
   ]
  },
  {
   "cell_type": "code",
   "execution_count": 47,
   "id": "0a5b992e-facf-4231-b82e-d2fd7470bed0",
   "metadata": {},
   "outputs": [
    {
     "data": {
      "text/plain": [
       "5"
      ]
     },
     "execution_count": 47,
     "metadata": {},
     "output_type": "execute_result"
    }
   ],
   "source": [
    "df.Method.nunique()"
   ]
  },
  {
   "cell_type": "code",
   "execution_count": 48,
   "id": "0d270cce-c9b6-4de8-a47b-2593ac1f7039",
   "metadata": {},
   "outputs": [],
   "source": [
    "dummies_method = pd.get_dummies(df.Method, prefix = 'Method', drop_first = True)\n",
    "df = pd.concat([df, dummies_method], axis = 1)\n",
    "df = df.drop('Method', axis = 1)"
   ]
  },
  {
   "cell_type": "markdown",
   "id": "13b4e405-9db6-4906-a359-41278e33847b",
   "metadata": {
    "tags": []
   },
   "source": [
    "#### Kolom Regionname"
   ]
  },
  {
   "cell_type": "code",
   "execution_count": 49,
   "id": "a94bf07b-dbd5-4c08-9664-1687c2895cdf",
   "metadata": {},
   "outputs": [
    {
     "data": {
      "text/plain": [
       "8"
      ]
     },
     "execution_count": 49,
     "metadata": {},
     "output_type": "execute_result"
    }
   ],
   "source": [
    "df['Regionname'].nunique()"
   ]
  },
  {
   "cell_type": "code",
   "execution_count": 50,
   "id": "b1db786a-5203-429c-8c0d-57bc40e0a639",
   "metadata": {},
   "outputs": [
    {
     "data": {
      "text/plain": [
       "Southern Metropolitan         8524\n",
       "Northern Metropolitan         7137\n",
       "Western Metropolitan          5815\n",
       "Eastern Metropolitan          3272\n",
       "South-Eastern Metropolitan    1341\n",
       "Eastern Victoria               166\n",
       "Northern Victoria              166\n",
       "Western Victoria                96\n",
       "Name: Regionname, dtype: int64"
      ]
     },
     "execution_count": 50,
     "metadata": {},
     "output_type": "execute_result"
    }
   ],
   "source": [
    "df['Regionname'].value_counts()"
   ]
  },
  {
   "cell_type": "code",
   "execution_count": 51,
   "id": "933d553a-0485-4d3d-9833-fe0309cb6f28",
   "metadata": {},
   "outputs": [],
   "source": [
    "count_region = df.Regionname.value_counts()[5:].index\n",
    "df['Regionname'] = df['Regionname'].replace(count_region, 'Other')\n",
    "dummies_region = pd.get_dummies(df.Regionname, prefix = 'Regionname', drop_first = True)"
   ]
  },
  {
   "cell_type": "code",
   "execution_count": 52,
   "id": "7f6feb69-d4a0-43d9-b378-b0dea9a8c8e9",
   "metadata": {},
   "outputs": [],
   "source": [
    "df = pd.concat([df, dummies_region], axis = 1)\n",
    "df = df.drop('Regionname', axis = 1)"
   ]
  },
  {
   "cell_type": "markdown",
   "id": "12614562-588e-48a5-aba2-f57775b917dd",
   "metadata": {},
   "source": [
    "#### Kolom CouncilArea"
   ]
  },
  {
   "cell_type": "code",
   "execution_count": 53,
   "id": "e6dc3072-6926-4f79-8ecb-f00f780a9ccb",
   "metadata": {},
   "outputs": [
    {
     "data": {
      "text/plain": [
       "33"
      ]
     },
     "execution_count": 53,
     "metadata": {},
     "output_type": "execute_result"
    }
   ],
   "source": [
    "df['CouncilArea'].nunique()"
   ]
  },
  {
   "cell_type": "code",
   "execution_count": 54,
   "id": "c97901d8-897d-49ad-9288-1678c10e4419",
   "metadata": {
    "tags": []
   },
   "outputs": [
    {
     "data": {
      "text/plain": [
       "Boroondara City Council           2520\n",
       "Moreland City Council             1790\n",
       "Glen Eira City Council            1643\n",
       "Darebin City Council              1622\n",
       "Moonee Valley City Council        1584\n",
       "Melbourne City Council            1502\n",
       "Banyule City Council              1457\n",
       "Brimbank City Council             1366\n",
       "Bayside City Council              1311\n",
       "Maribyrnong City Council          1221\n",
       "Hume City Council                 1036\n",
       "Monash City Council               1007\n",
       "Port Phillip City Council          952\n",
       "Yarra City Council                 918\n",
       "Stonnington City Council           884\n",
       "Manningham City Council            842\n",
       "Hobsons Bay City Council           799\n",
       "Kingston City Council              735\n",
       "Whittlesea City Council            709\n",
       "Wyndham City Council               492\n",
       "Whitehorse City Council            435\n",
       "Maroondah City Council             356\n",
       "Knox City Council                  287\n",
       "Melton City Council                243\n",
       "Frankston City Council             229\n",
       "Greater Dandenong City Council     209\n",
       "Casey City Council                 138\n",
       "Nillumbik Shire Council             78\n",
       "Yarra Ranges Shire Council          71\n",
       "Macedon Ranges Shire Council        39\n",
       "Cardinia Shire Council              26\n",
       "Mitchell Shire Council              11\n",
       "Moorabool Shire Council              5\n",
       "Name: CouncilArea, dtype: int64"
      ]
     },
     "execution_count": 54,
     "metadata": {},
     "output_type": "execute_result"
    }
   ],
   "source": [
    "df['CouncilArea'].value_counts()"
   ]
  },
  {
   "cell_type": "code",
   "execution_count": 55,
   "id": "b6847a88-8845-40a6-be3d-3168aac11390",
   "metadata": {},
   "outputs": [],
   "source": [
    "count_councilarea = df.CouncilArea.value_counts()[5:].index\n",
    "df['CouncilArea'] = df['CouncilArea'].replace(count_councilarea, 'Other')\n",
    "dummies_councilarea = pd.get_dummies(df.CouncilArea, prefix = 'CouncilArea', drop_first = True)"
   ]
  },
  {
   "cell_type": "code",
   "execution_count": 56,
   "id": "a858d607-76bb-4233-bf4c-7a2602f75ad4",
   "metadata": {},
   "outputs": [],
   "source": [
    "df = pd.concat([df, dummies_councilarea], axis = 1)\n",
    "df = df.drop('CouncilArea', axis = 1)"
   ]
  },
  {
   "cell_type": "markdown",
   "id": "2535c8f5-911a-4e02-ac3a-881afc526bfa",
   "metadata": {},
   "source": [
    "#### Kolom Date"
   ]
  },
  {
   "cell_type": "code",
   "execution_count": 57,
   "id": "f8a59c18-7e2b-43b0-860b-8476d14e33a4",
   "metadata": {},
   "outputs": [
    {
     "data": {
      "text/plain": [
       "78"
      ]
     },
     "execution_count": 57,
     "metadata": {},
     "output_type": "execute_result"
    }
   ],
   "source": [
    "df['Date'].nunique()"
   ]
  },
  {
   "cell_type": "code",
   "execution_count": 58,
   "id": "733390a5-d0e7-41f5-9435-e91f9648514d",
   "metadata": {},
   "outputs": [
    {
     "data": {
      "text/plain": [
       "28/10/2017    860\n",
       "17/03/2018    738\n",
       "24/02/2018    713\n",
       "9/12/2017     707\n",
       "18/11/2017    671\n",
       "             ... \n",
       "4/02/2016      35\n",
       "30/09/2017     17\n",
       "20/01/2018     12\n",
       "27/01/2018     11\n",
       "28/01/2016      2\n",
       "Name: Date, Length: 78, dtype: int64"
      ]
     },
     "execution_count": 58,
     "metadata": {},
     "output_type": "execute_result"
    }
   ],
   "source": [
    "df['Date'].value_counts()"
   ]
  },
  {
   "cell_type": "code",
   "execution_count": 59,
   "id": "535e37f5-287f-4572-856e-0db992724f43",
   "metadata": {},
   "outputs": [
    {
     "data": {
      "text/plain": [
       "2017-10-28    860\n",
       "2018-03-17    738\n",
       "2018-02-24    713\n",
       "2017-09-12    707\n",
       "2017-11-18    671\n",
       "             ... \n",
       "2016-04-02     35\n",
       "2017-09-30     17\n",
       "2018-01-20     12\n",
       "2018-01-27     11\n",
       "2016-01-28      2\n",
       "Name: Date, Length: 78, dtype: int64"
      ]
     },
     "execution_count": 59,
     "metadata": {},
     "output_type": "execute_result"
    }
   ],
   "source": [
    "df['Date'] = pd.to_datetime(df['Date'])\n",
    "df['Date'].value_counts()"
   ]
  },
  {
   "cell_type": "code",
   "execution_count": 60,
   "id": "ec1586b1-4e54-49ba-9b0b-1042c545ed4c",
   "metadata": {},
   "outputs": [],
   "source": [
    "df['Date_year'] = df.Date.dt.year\n",
    "df['Date_month'] = df.Date.dt.month\n",
    "df['Date_day'] = df.Date.dt.day"
   ]
  },
  {
   "cell_type": "code",
   "execution_count": 61,
   "id": "e4aedfa8-bc76-419c-bcee-ee3ed0c4e564",
   "metadata": {},
   "outputs": [],
   "source": [
    "df = df.drop('Date', axis = 1)"
   ]
  },
  {
   "cell_type": "code",
   "execution_count": 62,
   "id": "185daa53-2af3-4b75-bc7d-d6bc420dc1c3",
   "metadata": {},
   "outputs": [
    {
     "name": "stdout",
     "output_type": "stream",
     "text": [
      "<class 'pandas.core.frame.DataFrame'>\n",
      "Int64Index: 26517 entries, 1 to 34856\n",
      "Data columns (total 32 columns):\n",
      " #   Column                                  Non-Null Count  Dtype  \n",
      "---  ------                                  --------------  -----  \n",
      " 0   Suburb                                  26517 non-null  object \n",
      " 1   Address                                 26517 non-null  object \n",
      " 2   Rooms                                   26517 non-null  int64  \n",
      " 3   Price                                   26517 non-null  float64\n",
      " 4   SellerG                                 26517 non-null  object \n",
      " 5   Distance                                26517 non-null  float64\n",
      " 6   Postcode                                26517 non-null  float64\n",
      " 7   Bedroom2                                26517 non-null  float64\n",
      " 8   Bathroom                                26517 non-null  float64\n",
      " 9   Car                                     26517 non-null  float64\n",
      " 10  Landsize                                26517 non-null  float64\n",
      " 11  YearBuilt                               26517 non-null  float64\n",
      " 12  Propertycount                           26517 non-null  float64\n",
      " 13  Type_t                                  26517 non-null  uint8  \n",
      " 14  Type_u                                  26517 non-null  uint8  \n",
      " 15  Method_S                                26517 non-null  uint8  \n",
      " 16  Method_SA                               26517 non-null  uint8  \n",
      " 17  Method_SP                               26517 non-null  uint8  \n",
      " 18  Method_VB                               26517 non-null  uint8  \n",
      " 19  Regionname_Northern Metropolitan        26517 non-null  uint8  \n",
      " 20  Regionname_Other                        26517 non-null  uint8  \n",
      " 21  Regionname_South-Eastern Metropolitan   26517 non-null  uint8  \n",
      " 22  Regionname_Southern Metropolitan        26517 non-null  uint8  \n",
      " 23  Regionname_Western Metropolitan         26517 non-null  uint8  \n",
      " 24  CouncilArea_Darebin City Council        26517 non-null  uint8  \n",
      " 25  CouncilArea_Glen Eira City Council      26517 non-null  uint8  \n",
      " 26  CouncilArea_Moonee Valley City Council  26517 non-null  uint8  \n",
      " 27  CouncilArea_Moreland City Council       26517 non-null  uint8  \n",
      " 28  CouncilArea_Other                       26517 non-null  uint8  \n",
      " 29  Date_year                               26517 non-null  int64  \n",
      " 30  Date_month                              26517 non-null  int64  \n",
      " 31  Date_day                                26517 non-null  int64  \n",
      "dtypes: float64(9), int64(4), object(3), uint8(16)\n",
      "memory usage: 3.8+ MB\n"
     ]
    }
   ],
   "source": [
    "df.info()"
   ]
  },
  {
   "cell_type": "markdown",
   "id": "49ab3bcc-dac9-4d00-85b2-f693cbe5b33b",
   "metadata": {},
   "source": [
    "#### Kolom Subburb"
   ]
  },
  {
   "cell_type": "code",
   "execution_count": 63,
   "id": "ed748e24-167b-4138-98db-2b497a8c538a",
   "metadata": {},
   "outputs": [
    {
     "data": {
      "text/plain": [
       "343"
      ]
     },
     "execution_count": 63,
     "metadata": {},
     "output_type": "execute_result"
    }
   ],
   "source": [
    "df['Suburb'].nunique()"
   ]
  },
  {
   "cell_type": "code",
   "execution_count": 64,
   "id": "f9ccc089-d021-4a5b-9b50-de467b0d512f",
   "metadata": {},
   "outputs": [
    {
     "data": {
      "text/plain": [
       "Bentleigh East     493\n",
       "Richmond           439\n",
       "Preston            415\n",
       "Brunswick          387\n",
       "Essendon           361\n",
       "                  ... \n",
       "croydon              1\n",
       "Tecoma               1\n",
       "Cranbourne East      1\n",
       "Yarra Glen           1\n",
       "Kalkallo             1\n",
       "Name: Suburb, Length: 343, dtype: int64"
      ]
     },
     "execution_count": 64,
     "metadata": {},
     "output_type": "execute_result"
    }
   ],
   "source": [
    "df['Suburb'].value_counts()"
   ]
  },
  {
   "cell_type": "code",
   "execution_count": 65,
   "id": "278b590c-db59-4dfc-94d7-c46cea29b89f",
   "metadata": {},
   "outputs": [],
   "source": [
    "count_suburb = df.Suburb.value_counts()[5:].index\n",
    "df['Suburb'] = df['Suburb'].replace(count_suburb, 'Other')\n",
    "dummies_suburb = pd.get_dummies(df.Suburb, prefix = 'Suburb', drop_first = True)"
   ]
  },
  {
   "cell_type": "code",
   "execution_count": 66,
   "id": "066c6891-53b4-4aed-871a-ff85199fd8e5",
   "metadata": {},
   "outputs": [],
   "source": [
    "df = pd.concat([df, dummies_suburb], axis = 1)\n",
    "df = df.drop('Suburb', axis = 1)"
   ]
  },
  {
   "cell_type": "markdown",
   "id": "5a4c04ba-78fd-4a88-8eac-26555c22086f",
   "metadata": {},
   "source": [
    "#### Kolom SellerG"
   ]
  },
  {
   "cell_type": "code",
   "execution_count": 67,
   "id": "15bb8781-2ada-43dc-b92e-4968ed4959af",
   "metadata": {},
   "outputs": [
    {
     "data": {
      "text/plain": [
       "349"
      ]
     },
     "execution_count": 67,
     "metadata": {},
     "output_type": "execute_result"
    }
   ],
   "source": [
    "df['SellerG'].nunique()"
   ]
  },
  {
   "cell_type": "code",
   "execution_count": 68,
   "id": "79b5e754-3976-481f-a560-76ed758ab512",
   "metadata": {},
   "outputs": [
    {
     "data": {
      "text/plain": [
       "Nelson           2586\n",
       "Jellis           2527\n",
       "Barry            2229\n",
       "hockingstuart    2062\n",
       "Buxton           1431\n",
       "                 ... \n",
       "Craig               1\n",
       "Reed                1\n",
       "White               1\n",
       "Oak                 1\n",
       "Sanctuary           1\n",
       "Name: SellerG, Length: 349, dtype: int64"
      ]
     },
     "execution_count": 68,
     "metadata": {},
     "output_type": "execute_result"
    }
   ],
   "source": [
    "df['SellerG'].value_counts()"
   ]
  },
  {
   "cell_type": "code",
   "execution_count": 69,
   "id": "20757a5d-55c8-4ecf-acf1-33301fcb6a38",
   "metadata": {},
   "outputs": [],
   "source": [
    "count_seller = df.SellerG.value_counts()[5:].index\n",
    "df['SellerG'] = df['SellerG'].replace(count_seller, 'Other')\n",
    "dummies_seller = pd.get_dummies(df.SellerG, prefix = 'SellerG', drop_first = True)"
   ]
  },
  {
   "cell_type": "code",
   "execution_count": 70,
   "id": "34b4908e-76e6-4a44-85fc-7a21b7b45b3f",
   "metadata": {},
   "outputs": [],
   "source": [
    "df = pd.concat([df, dummies_seller], axis = 1)\n",
    "df = df.drop('SellerG', axis = 1)"
   ]
  },
  {
   "cell_type": "markdown",
   "id": "35133105-62b2-4760-82ec-a7f9ea01907e",
   "metadata": {},
   "source": [
    "#### Kolom Address"
   ]
  },
  {
   "cell_type": "code",
   "execution_count": 71,
   "id": "d51942a0-cfbd-4d91-bf54-762453cf32e2",
   "metadata": {},
   "outputs": [
    {
     "data": {
      "text/plain": [
       "26030"
      ]
     },
     "execution_count": 71,
     "metadata": {},
     "output_type": "execute_result"
    }
   ],
   "source": [
    "df['Address'].nunique()"
   ]
  },
  {
   "cell_type": "code",
   "execution_count": 72,
   "id": "50cd2aa5-32b8-4ec1-83d3-7e13f0079824",
   "metadata": {},
   "outputs": [
    {
     "data": {
      "text/plain": [
       "5 Charles St         4\n",
       "7 Churchill Av       3\n",
       "53 William St        3\n",
       "13 Robinson St       3\n",
       "1/1 Clarendon St     3\n",
       "                    ..\n",
       "3/51 Stenhouse Av    1\n",
       "26 Nolan Av          1\n",
       "3/53 Stenhouse Av    1\n",
       "4 Viola Av           1\n",
       "3 Tarrengower St     1\n",
       "Name: Address, Length: 26030, dtype: int64"
      ]
     },
     "execution_count": 72,
     "metadata": {},
     "output_type": "execute_result"
    }
   ],
   "source": [
    "df['Address'].value_counts()"
   ]
  },
  {
   "cell_type": "code",
   "execution_count": 73,
   "id": "edd1c288-66fd-46a0-9ff2-da4fea1a436e",
   "metadata": {},
   "outputs": [],
   "source": [
    "df = df.drop(['Address'], axis = 1)"
   ]
  },
  {
   "cell_type": "markdown",
   "id": "910857b3-67f4-4411-a53c-64680f75eec1",
   "metadata": {
    "jp-MarkdownHeadingCollapsed": true,
    "tags": []
   },
   "source": [
    "### SCALING"
   ]
  },
  {
   "cell_type": "code",
   "execution_count": 74,
   "id": "dd6aa237-5e2b-4027-97cf-92f79c79789e",
   "metadata": {},
   "outputs": [
    {
     "data": {
      "text/html": [
       "<div>\n",
       "<style scoped>\n",
       "    .dataframe tbody tr th:only-of-type {\n",
       "        vertical-align: middle;\n",
       "    }\n",
       "\n",
       "    .dataframe tbody tr th {\n",
       "        vertical-align: top;\n",
       "    }\n",
       "\n",
       "    .dataframe thead th {\n",
       "        text-align: right;\n",
       "    }\n",
       "</style>\n",
       "<table border=\"1\" class=\"dataframe\">\n",
       "  <thead>\n",
       "    <tr style=\"text-align: right;\">\n",
       "      <th></th>\n",
       "      <th>Rooms</th>\n",
       "      <th>Price</th>\n",
       "      <th>Distance</th>\n",
       "      <th>Postcode</th>\n",
       "      <th>Bedroom2</th>\n",
       "      <th>Bathroom</th>\n",
       "      <th>Car</th>\n",
       "      <th>Landsize</th>\n",
       "      <th>YearBuilt</th>\n",
       "      <th>Propertycount</th>\n",
       "      <th>...</th>\n",
       "      <th>Suburb_Brunswick</th>\n",
       "      <th>Suburb_Essendon</th>\n",
       "      <th>Suburb_Other</th>\n",
       "      <th>Suburb_Preston</th>\n",
       "      <th>Suburb_Richmond</th>\n",
       "      <th>SellerG_Buxton</th>\n",
       "      <th>SellerG_Jellis</th>\n",
       "      <th>SellerG_Nelson</th>\n",
       "      <th>SellerG_Other</th>\n",
       "      <th>SellerG_hockingstuart</th>\n",
       "    </tr>\n",
       "  </thead>\n",
       "  <tbody>\n",
       "    <tr>\n",
       "      <th>1</th>\n",
       "      <td>2</td>\n",
       "      <td>1480000.0</td>\n",
       "      <td>2.5</td>\n",
       "      <td>3067.0</td>\n",
       "      <td>2.0</td>\n",
       "      <td>1.0</td>\n",
       "      <td>1.0</td>\n",
       "      <td>202.0</td>\n",
       "      <td>0.0</td>\n",
       "      <td>4019.0</td>\n",
       "      <td>...</td>\n",
       "      <td>0</td>\n",
       "      <td>0</td>\n",
       "      <td>1</td>\n",
       "      <td>0</td>\n",
       "      <td>0</td>\n",
       "      <td>0</td>\n",
       "      <td>0</td>\n",
       "      <td>0</td>\n",
       "      <td>1</td>\n",
       "      <td>0</td>\n",
       "    </tr>\n",
       "    <tr>\n",
       "      <th>2</th>\n",
       "      <td>2</td>\n",
       "      <td>1035000.0</td>\n",
       "      <td>2.5</td>\n",
       "      <td>3067.0</td>\n",
       "      <td>2.0</td>\n",
       "      <td>1.0</td>\n",
       "      <td>0.0</td>\n",
       "      <td>156.0</td>\n",
       "      <td>1900.0</td>\n",
       "      <td>4019.0</td>\n",
       "      <td>...</td>\n",
       "      <td>0</td>\n",
       "      <td>0</td>\n",
       "      <td>1</td>\n",
       "      <td>0</td>\n",
       "      <td>0</td>\n",
       "      <td>0</td>\n",
       "      <td>0</td>\n",
       "      <td>0</td>\n",
       "      <td>1</td>\n",
       "      <td>0</td>\n",
       "    </tr>\n",
       "    <tr>\n",
       "      <th>4</th>\n",
       "      <td>3</td>\n",
       "      <td>1465000.0</td>\n",
       "      <td>2.5</td>\n",
       "      <td>3067.0</td>\n",
       "      <td>3.0</td>\n",
       "      <td>2.0</td>\n",
       "      <td>0.0</td>\n",
       "      <td>134.0</td>\n",
       "      <td>1900.0</td>\n",
       "      <td>4019.0</td>\n",
       "      <td>...</td>\n",
       "      <td>0</td>\n",
       "      <td>0</td>\n",
       "      <td>1</td>\n",
       "      <td>0</td>\n",
       "      <td>0</td>\n",
       "      <td>0</td>\n",
       "      <td>0</td>\n",
       "      <td>0</td>\n",
       "      <td>1</td>\n",
       "      <td>0</td>\n",
       "    </tr>\n",
       "    <tr>\n",
       "      <th>5</th>\n",
       "      <td>3</td>\n",
       "      <td>850000.0</td>\n",
       "      <td>2.5</td>\n",
       "      <td>3067.0</td>\n",
       "      <td>3.0</td>\n",
       "      <td>2.0</td>\n",
       "      <td>1.0</td>\n",
       "      <td>94.0</td>\n",
       "      <td>0.0</td>\n",
       "      <td>4019.0</td>\n",
       "      <td>...</td>\n",
       "      <td>0</td>\n",
       "      <td>0</td>\n",
       "      <td>1</td>\n",
       "      <td>0</td>\n",
       "      <td>0</td>\n",
       "      <td>0</td>\n",
       "      <td>0</td>\n",
       "      <td>0</td>\n",
       "      <td>1</td>\n",
       "      <td>0</td>\n",
       "    </tr>\n",
       "    <tr>\n",
       "      <th>6</th>\n",
       "      <td>4</td>\n",
       "      <td>1600000.0</td>\n",
       "      <td>2.5</td>\n",
       "      <td>3067.0</td>\n",
       "      <td>3.0</td>\n",
       "      <td>1.0</td>\n",
       "      <td>2.0</td>\n",
       "      <td>120.0</td>\n",
       "      <td>2014.0</td>\n",
       "      <td>4019.0</td>\n",
       "      <td>...</td>\n",
       "      <td>0</td>\n",
       "      <td>0</td>\n",
       "      <td>1</td>\n",
       "      <td>0</td>\n",
       "      <td>0</td>\n",
       "      <td>0</td>\n",
       "      <td>0</td>\n",
       "      <td>1</td>\n",
       "      <td>0</td>\n",
       "      <td>0</td>\n",
       "    </tr>\n",
       "  </tbody>\n",
       "</table>\n",
       "<p>5 rows × 39 columns</p>\n",
       "</div>"
      ],
      "text/plain": [
       "   Rooms      Price  Distance  Postcode  Bedroom2  Bathroom  Car  Landsize  \\\n",
       "1      2  1480000.0       2.5    3067.0       2.0       1.0  1.0     202.0   \n",
       "2      2  1035000.0       2.5    3067.0       2.0       1.0  0.0     156.0   \n",
       "4      3  1465000.0       2.5    3067.0       3.0       2.0  0.0     134.0   \n",
       "5      3   850000.0       2.5    3067.0       3.0       2.0  1.0      94.0   \n",
       "6      4  1600000.0       2.5    3067.0       3.0       1.0  2.0     120.0   \n",
       "\n",
       "   YearBuilt  Propertycount  ...  Suburb_Brunswick  Suburb_Essendon  \\\n",
       "1        0.0         4019.0  ...                 0                0   \n",
       "2     1900.0         4019.0  ...                 0                0   \n",
       "4     1900.0         4019.0  ...                 0                0   \n",
       "5        0.0         4019.0  ...                 0                0   \n",
       "6     2014.0         4019.0  ...                 0                0   \n",
       "\n",
       "   Suburb_Other  Suburb_Preston  Suburb_Richmond  SellerG_Buxton  \\\n",
       "1             1               0                0               0   \n",
       "2             1               0                0               0   \n",
       "4             1               0                0               0   \n",
       "5             1               0                0               0   \n",
       "6             1               0                0               0   \n",
       "\n",
       "   SellerG_Jellis  SellerG_Nelson  SellerG_Other  SellerG_hockingstuart  \n",
       "1               0               0              1                      0  \n",
       "2               0               0              1                      0  \n",
       "4               0               0              1                      0  \n",
       "5               0               0              1                      0  \n",
       "6               0               1              0                      0  \n",
       "\n",
       "[5 rows x 39 columns]"
      ]
     },
     "execution_count": 74,
     "metadata": {},
     "output_type": "execute_result"
    }
   ],
   "source": [
    "df.head()"
   ]
  },
  {
   "cell_type": "code",
   "execution_count": 75,
   "id": "0785e8c5-b02f-4fc0-84be-b22b24da0bda",
   "metadata": {},
   "outputs": [],
   "source": [
    "scaler = MinMaxScaler()"
   ]
  },
  {
   "cell_type": "code",
   "execution_count": 76,
   "id": "bc673486-dae5-4b35-9c69-a36479e56fa5",
   "metadata": {},
   "outputs": [],
   "source": [
    "cols_to_scal = ['Rooms', 'Price','Distance', 'Bedroom2', 'Bathroom', 'Car', 'Landsize', 'Propertycount']"
   ]
  },
  {
   "cell_type": "code",
   "execution_count": 77,
   "id": "24f8dac2-7256-4735-bd81-dbbc588c49a0",
   "metadata": {},
   "outputs": [],
   "source": [
    "std_cols = pd.DataFrame(scaler.fit_transform(df[cols_to_scal]), columns=cols_to_scal)"
   ]
  },
  {
   "cell_type": "code",
   "execution_count": 78,
   "id": "17f33f67-e336-4f96-8487-8c60d49d7eef",
   "metadata": {},
   "outputs": [
    {
     "data": {
      "text/html": [
       "<div>\n",
       "<style scoped>\n",
       "    .dataframe tbody tr th:only-of-type {\n",
       "        vertical-align: middle;\n",
       "    }\n",
       "\n",
       "    .dataframe tbody tr th {\n",
       "        vertical-align: top;\n",
       "    }\n",
       "\n",
       "    .dataframe thead th {\n",
       "        text-align: right;\n",
       "    }\n",
       "</style>\n",
       "<table border=\"1\" class=\"dataframe\">\n",
       "  <thead>\n",
       "    <tr style=\"text-align: right;\">\n",
       "      <th></th>\n",
       "      <th>Rooms</th>\n",
       "      <th>Price</th>\n",
       "      <th>Distance</th>\n",
       "      <th>Bedroom2</th>\n",
       "      <th>Bathroom</th>\n",
       "      <th>Car</th>\n",
       "      <th>Landsize</th>\n",
       "      <th>Propertycount</th>\n",
       "    </tr>\n",
       "  </thead>\n",
       "  <tbody>\n",
       "    <tr>\n",
       "      <th>0</th>\n",
       "      <td>0.066667</td>\n",
       "      <td>0.125506</td>\n",
       "      <td>0.051975</td>\n",
       "      <td>0.10</td>\n",
       "      <td>0.111111</td>\n",
       "      <td>0.055556</td>\n",
       "      <td>0.173565</td>\n",
       "      <td>0.226038</td>\n",
       "    </tr>\n",
       "    <tr>\n",
       "      <th>1</th>\n",
       "      <td>0.066667</td>\n",
       "      <td>0.085470</td>\n",
       "      <td>0.051975</td>\n",
       "      <td>0.10</td>\n",
       "      <td>0.111111</td>\n",
       "      <td>0.000000</td>\n",
       "      <td>0.134040</td>\n",
       "      <td>0.226038</td>\n",
       "    </tr>\n",
       "    <tr>\n",
       "      <th>2</th>\n",
       "      <td>0.133333</td>\n",
       "      <td>0.124157</td>\n",
       "      <td>0.051975</td>\n",
       "      <td>0.15</td>\n",
       "      <td>0.222222</td>\n",
       "      <td>0.000000</td>\n",
       "      <td>0.115137</td>\n",
       "      <td>0.226038</td>\n",
       "    </tr>\n",
       "    <tr>\n",
       "      <th>3</th>\n",
       "      <td>0.133333</td>\n",
       "      <td>0.068826</td>\n",
       "      <td>0.051975</td>\n",
       "      <td>0.15</td>\n",
       "      <td>0.222222</td>\n",
       "      <td>0.055556</td>\n",
       "      <td>0.080768</td>\n",
       "      <td>0.226038</td>\n",
       "    </tr>\n",
       "    <tr>\n",
       "      <th>4</th>\n",
       "      <td>0.200000</td>\n",
       "      <td>0.136302</td>\n",
       "      <td>0.051975</td>\n",
       "      <td>0.15</td>\n",
       "      <td>0.111111</td>\n",
       "      <td>0.111111</td>\n",
       "      <td>0.103108</td>\n",
       "      <td>0.226038</td>\n",
       "    </tr>\n",
       "  </tbody>\n",
       "</table>\n",
       "</div>"
      ],
      "text/plain": [
       "      Rooms     Price  Distance  Bedroom2  Bathroom       Car  Landsize  \\\n",
       "0  0.066667  0.125506  0.051975      0.10  0.111111  0.055556  0.173565   \n",
       "1  0.066667  0.085470  0.051975      0.10  0.111111  0.000000  0.134040   \n",
       "2  0.133333  0.124157  0.051975      0.15  0.222222  0.000000  0.115137   \n",
       "3  0.133333  0.068826  0.051975      0.15  0.222222  0.055556  0.080768   \n",
       "4  0.200000  0.136302  0.051975      0.15  0.111111  0.111111  0.103108   \n",
       "\n",
       "   Propertycount  \n",
       "0       0.226038  \n",
       "1       0.226038  \n",
       "2       0.226038  \n",
       "3       0.226038  \n",
       "4       0.226038  "
      ]
     },
     "execution_count": 78,
     "metadata": {},
     "output_type": "execute_result"
    }
   ],
   "source": [
    "std_cols.head()"
   ]
  },
  {
   "cell_type": "code",
   "execution_count": 79,
   "id": "842d7ce0-bf94-41d6-ad59-fde6028e3572",
   "metadata": {},
   "outputs": [],
   "source": [
    "cols_to_drop = df[['Rooms', 'Price','Distance', 'Bedroom2', 'Bathroom', 'Car', 'Landsize', 'Propertycount', 'Postcode']]\n",
    "df = df.drop(cols_to_drop, axis = 1)"
   ]
  },
  {
   "cell_type": "code",
   "execution_count": 80,
   "id": "39a9d595-3093-4c56-bbe5-bc5df5486cec",
   "metadata": {},
   "outputs": [],
   "source": [
    "df = pd.concat([df, std_cols], axis = 1)"
   ]
  },
  {
   "cell_type": "code",
   "execution_count": 81,
   "id": "4f6762af-ba8e-46ee-a0cb-0329d8d54e8f",
   "metadata": {
    "tags": []
   },
   "outputs": [
    {
     "name": "stdout",
     "output_type": "stream",
     "text": [
      "<class 'pandas.core.frame.DataFrame'>\n",
      "Int64Index: 32858 entries, 1 to 26516\n",
      "Data columns (total 38 columns):\n",
      " #   Column                                  Non-Null Count  Dtype  \n",
      "---  ------                                  --------------  -----  \n",
      " 0   YearBuilt                               26517 non-null  float64\n",
      " 1   Type_t                                  26517 non-null  float64\n",
      " 2   Type_u                                  26517 non-null  float64\n",
      " 3   Method_S                                26517 non-null  float64\n",
      " 4   Method_SA                               26517 non-null  float64\n",
      " 5   Method_SP                               26517 non-null  float64\n",
      " 6   Method_VB                               26517 non-null  float64\n",
      " 7   Regionname_Northern Metropolitan        26517 non-null  float64\n",
      " 8   Regionname_Other                        26517 non-null  float64\n",
      " 9   Regionname_South-Eastern Metropolitan   26517 non-null  float64\n",
      " 10  Regionname_Southern Metropolitan        26517 non-null  float64\n",
      " 11  Regionname_Western Metropolitan         26517 non-null  float64\n",
      " 12  CouncilArea_Darebin City Council        26517 non-null  float64\n",
      " 13  CouncilArea_Glen Eira City Council      26517 non-null  float64\n",
      " 14  CouncilArea_Moonee Valley City Council  26517 non-null  float64\n",
      " 15  CouncilArea_Moreland City Council       26517 non-null  float64\n",
      " 16  CouncilArea_Other                       26517 non-null  float64\n",
      " 17  Date_year                               26517 non-null  float64\n",
      " 18  Date_month                              26517 non-null  float64\n",
      " 19  Date_day                                26517 non-null  float64\n",
      " 20  Suburb_Brunswick                        26517 non-null  float64\n",
      " 21  Suburb_Essendon                         26517 non-null  float64\n",
      " 22  Suburb_Other                            26517 non-null  float64\n",
      " 23  Suburb_Preston                          26517 non-null  float64\n",
      " 24  Suburb_Richmond                         26517 non-null  float64\n",
      " 25  SellerG_Buxton                          26517 non-null  float64\n",
      " 26  SellerG_Jellis                          26517 non-null  float64\n",
      " 27  SellerG_Nelson                          26517 non-null  float64\n",
      " 28  SellerG_Other                           26517 non-null  float64\n",
      " 29  SellerG_hockingstuart                   26517 non-null  float64\n",
      " 30  Rooms                                   26517 non-null  float64\n",
      " 31  Price                                   26517 non-null  float64\n",
      " 32  Distance                                26517 non-null  float64\n",
      " 33  Bedroom2                                26517 non-null  float64\n",
      " 34  Bathroom                                26517 non-null  float64\n",
      " 35  Car                                     26517 non-null  float64\n",
      " 36  Landsize                                26517 non-null  float64\n",
      " 37  Propertycount                           26517 non-null  float64\n",
      "dtypes: float64(38)\n",
      "memory usage: 9.8 MB\n"
     ]
    }
   ],
   "source": [
    "df.info()"
   ]
  },
  {
   "cell_type": "code",
   "execution_count": 82,
   "id": "7fcfe932-1c72-48c9-b0e0-18c4cc4c984f",
   "metadata": {},
   "outputs": [],
   "source": [
    "df = df.dropna(axis = 0)"
   ]
  },
  {
   "cell_type": "code",
   "execution_count": 83,
   "id": "564b5b31-d493-45e9-8254-9658d85ce5e3",
   "metadata": {
    "tags": []
   },
   "outputs": [
    {
     "data": {
      "text/plain": [
       "YearBuilt                                 False\n",
       "Type_t                                    False\n",
       "Type_u                                    False\n",
       "Method_S                                  False\n",
       "Method_SA                                 False\n",
       "Method_SP                                 False\n",
       "Method_VB                                 False\n",
       "Regionname_Northern Metropolitan          False\n",
       "Regionname_Other                          False\n",
       "Regionname_South-Eastern Metropolitan     False\n",
       "Regionname_Southern Metropolitan          False\n",
       "Regionname_Western Metropolitan           False\n",
       "CouncilArea_Darebin City Council          False\n",
       "CouncilArea_Glen Eira City Council        False\n",
       "CouncilArea_Moonee Valley City Council    False\n",
       "CouncilArea_Moreland City Council         False\n",
       "CouncilArea_Other                         False\n",
       "Date_year                                 False\n",
       "Date_month                                False\n",
       "Date_day                                  False\n",
       "Suburb_Brunswick                          False\n",
       "Suburb_Essendon                           False\n",
       "Suburb_Other                              False\n",
       "Suburb_Preston                            False\n",
       "Suburb_Richmond                           False\n",
       "SellerG_Buxton                            False\n",
       "SellerG_Jellis                            False\n",
       "SellerG_Nelson                            False\n",
       "SellerG_Other                             False\n",
       "SellerG_hockingstuart                     False\n",
       "Rooms                                     False\n",
       "Price                                     False\n",
       "Distance                                  False\n",
       "Bedroom2                                  False\n",
       "Bathroom                                  False\n",
       "Car                                       False\n",
       "Landsize                                  False\n",
       "Propertycount                             False\n",
       "dtype: bool"
      ]
     },
     "execution_count": 83,
     "metadata": {},
     "output_type": "execute_result"
    }
   ],
   "source": [
    "df.isna().any()"
   ]
  },
  {
   "cell_type": "markdown",
   "id": "4ec044be-7645-4933-b944-37afedf54f99",
   "metadata": {
    "jp-MarkdownHeadingCollapsed": true,
    "tags": []
   },
   "source": [
    "### BINNING"
   ]
  },
  {
   "cell_type": "code",
   "execution_count": 84,
   "id": "42588d0a-1138-45d2-8530-6a80dc013094",
   "metadata": {},
   "outputs": [
    {
     "data": {
      "text/plain": [
       "0.0       10462\n",
       "1970.0      997\n",
       "1960.0      836\n",
       "1950.0      650\n",
       "1980.0      433\n",
       "          ...  \n",
       "1897.0        1\n",
       "1933.0        1\n",
       "1901.0        1\n",
       "1830.0        1\n",
       "1820.0        1\n",
       "Name: YearBuilt, Length: 146, dtype: int64"
      ]
     },
     "execution_count": 84,
     "metadata": {},
     "output_type": "execute_result"
    }
   ],
   "source": [
    "df['YearBuilt'].value_counts()"
   ]
  },
  {
   "cell_type": "code",
   "execution_count": 85,
   "id": "07056bbd-a9bd-4691-8d4b-1dce75569f81",
   "metadata": {},
   "outputs": [],
   "source": [
    "df_yb = df['YearBuilt']"
   ]
  },
  {
   "cell_type": "code",
   "execution_count": 86,
   "id": "b7b19874-234a-4db5-bdbe-745907c69794",
   "metadata": {},
   "outputs": [
    {
     "data": {
      "text/plain": [
       "count    9714.000000\n",
       "mean     1965.888717\n",
       "std        37.093393\n",
       "min      1196.000000\n",
       "25%      1948.000000\n",
       "50%      1970.000000\n",
       "75%      2000.000000\n",
       "max      2018.000000\n",
       "Name: YearBuilt, dtype: float64"
      ]
     },
     "execution_count": 86,
     "metadata": {},
     "output_type": "execute_result"
    }
   ],
   "source": [
    "df_yb[df_yb != 0].describe()"
   ]
  },
  {
   "cell_type": "markdown",
   "id": "786d3486-e503-4453-a817-06c9b21f0735",
   "metadata": {},
   "source": [
    "Akan dibuat fitur baru, yaitu keterangan dari bangunan rumah tersebut, apakah bangunan tersebut kontemporer, kuno atau tidak diketahui. Fitur ini diambil dari kolom YearBuilt.\n",
    "Berdasarkan `.describe`, dikatakan kontemporer jika umur bangunan adalah < 50 tahun (YearBuilt antara 2019 dan 1970), dikatakan kuno jika umur bangunan adalah >= 50 tahun (Yearbuilt antara 1196 dan 1970), dan selainnya tidak diketahui (Yearbuilt bernilai nol)"
   ]
  },
  {
   "cell_type": "code",
   "execution_count": 87,
   "id": "44e743e0-4c14-48e4-ac0d-8ad0680fbeae",
   "metadata": {},
   "outputs": [],
   "source": [
    "cut_labels = ['Tidak diketahui', 'Kuno', 'Kontemporer']\n",
    "cut_bins = [-1, 1196, 1970, 2019]"
   ]
  },
  {
   "cell_type": "code",
   "execution_count": 88,
   "id": "1e3f6f24-045a-43f7-9a6a-c2bdecd33a8a",
   "metadata": {},
   "outputs": [
    {
     "data": {
      "text/plain": [
       "1        Tidak diketahui\n",
       "2                   Kuno\n",
       "4                   Kuno\n",
       "5        Tidak diketahui\n",
       "6            Kontemporer\n",
       "              ...       \n",
       "26511        Kontemporer\n",
       "26512    Tidak diketahui\n",
       "26513    Tidak diketahui\n",
       "26514    Tidak diketahui\n",
       "26515        Kontemporer\n",
       "Name: BuildingType, Length: 20176, dtype: category\n",
       "Categories (3, object): ['Tidak diketahui' < 'Kuno' < 'Kontemporer']"
      ]
     },
     "execution_count": 88,
     "metadata": {},
     "output_type": "execute_result"
    }
   ],
   "source": [
    "df['BuildingType'] = pd.cut(df['YearBuilt'], bins = cut_bins, labels = cut_labels)\n",
    "df['BuildingType']"
   ]
  },
  {
   "cell_type": "code",
   "execution_count": 89,
   "id": "fab34b88-8ace-4793-94ef-b4ea0cd5dc14",
   "metadata": {},
   "outputs": [],
   "source": [
    "df = df.drop(['YearBuilt'], axis = 1)"
   ]
  },
  {
   "cell_type": "code",
   "execution_count": 90,
   "id": "32768c8e-3492-4a1c-8fd7-f501b979d299",
   "metadata": {},
   "outputs": [],
   "source": [
    "order = ['Tidak diketahui', 'Kontemporer', 'Kuno']\n",
    "df['BuildingType'] = OrdinalEncoder(categories = [order]).fit_transform(df[['BuildingType']])"
   ]
  },
  {
   "cell_type": "code",
   "execution_count": 91,
   "id": "435ef83d-5f60-429d-af8c-573fa9a6d986",
   "metadata": {},
   "outputs": [
    {
     "data": {
      "text/html": [
       "<div>\n",
       "<style scoped>\n",
       "    .dataframe tbody tr th:only-of-type {\n",
       "        vertical-align: middle;\n",
       "    }\n",
       "\n",
       "    .dataframe tbody tr th {\n",
       "        vertical-align: top;\n",
       "    }\n",
       "\n",
       "    .dataframe thead th {\n",
       "        text-align: right;\n",
       "    }\n",
       "</style>\n",
       "<table border=\"1\" class=\"dataframe\">\n",
       "  <thead>\n",
       "    <tr style=\"text-align: right;\">\n",
       "      <th></th>\n",
       "      <th>Type_t</th>\n",
       "      <th>Type_u</th>\n",
       "      <th>Method_S</th>\n",
       "      <th>Method_SA</th>\n",
       "      <th>Method_SP</th>\n",
       "      <th>Method_VB</th>\n",
       "      <th>Regionname_Northern Metropolitan</th>\n",
       "      <th>Regionname_Other</th>\n",
       "      <th>Regionname_South-Eastern Metropolitan</th>\n",
       "      <th>Regionname_Southern Metropolitan</th>\n",
       "      <th>...</th>\n",
       "      <th>SellerG_hockingstuart</th>\n",
       "      <th>Rooms</th>\n",
       "      <th>Price</th>\n",
       "      <th>Distance</th>\n",
       "      <th>Bedroom2</th>\n",
       "      <th>Bathroom</th>\n",
       "      <th>Car</th>\n",
       "      <th>Landsize</th>\n",
       "      <th>Propertycount</th>\n",
       "      <th>BuildingType</th>\n",
       "    </tr>\n",
       "  </thead>\n",
       "  <tbody>\n",
       "    <tr>\n",
       "      <th>1</th>\n",
       "      <td>0.0</td>\n",
       "      <td>0.0</td>\n",
       "      <td>1.0</td>\n",
       "      <td>0.0</td>\n",
       "      <td>0.0</td>\n",
       "      <td>0.0</td>\n",
       "      <td>1.0</td>\n",
       "      <td>0.0</td>\n",
       "      <td>0.0</td>\n",
       "      <td>0.0</td>\n",
       "      <td>...</td>\n",
       "      <td>0.0</td>\n",
       "      <td>0.066667</td>\n",
       "      <td>0.085470</td>\n",
       "      <td>0.051975</td>\n",
       "      <td>0.10</td>\n",
       "      <td>0.111111</td>\n",
       "      <td>0.000000</td>\n",
       "      <td>0.134040</td>\n",
       "      <td>0.226038</td>\n",
       "      <td>0.0</td>\n",
       "    </tr>\n",
       "    <tr>\n",
       "      <th>2</th>\n",
       "      <td>0.0</td>\n",
       "      <td>0.0</td>\n",
       "      <td>1.0</td>\n",
       "      <td>0.0</td>\n",
       "      <td>0.0</td>\n",
       "      <td>0.0</td>\n",
       "      <td>1.0</td>\n",
       "      <td>0.0</td>\n",
       "      <td>0.0</td>\n",
       "      <td>0.0</td>\n",
       "      <td>...</td>\n",
       "      <td>0.0</td>\n",
       "      <td>0.133333</td>\n",
       "      <td>0.124157</td>\n",
       "      <td>0.051975</td>\n",
       "      <td>0.15</td>\n",
       "      <td>0.222222</td>\n",
       "      <td>0.000000</td>\n",
       "      <td>0.115137</td>\n",
       "      <td>0.226038</td>\n",
       "      <td>2.0</td>\n",
       "    </tr>\n",
       "    <tr>\n",
       "      <th>4</th>\n",
       "      <td>0.0</td>\n",
       "      <td>0.0</td>\n",
       "      <td>0.0</td>\n",
       "      <td>0.0</td>\n",
       "      <td>1.0</td>\n",
       "      <td>0.0</td>\n",
       "      <td>1.0</td>\n",
       "      <td>0.0</td>\n",
       "      <td>0.0</td>\n",
       "      <td>0.0</td>\n",
       "      <td>...</td>\n",
       "      <td>0.0</td>\n",
       "      <td>0.200000</td>\n",
       "      <td>0.136302</td>\n",
       "      <td>0.051975</td>\n",
       "      <td>0.15</td>\n",
       "      <td>0.111111</td>\n",
       "      <td>0.111111</td>\n",
       "      <td>0.103108</td>\n",
       "      <td>0.226038</td>\n",
       "      <td>2.0</td>\n",
       "    </tr>\n",
       "    <tr>\n",
       "      <th>5</th>\n",
       "      <td>0.0</td>\n",
       "      <td>0.0</td>\n",
       "      <td>0.0</td>\n",
       "      <td>0.0</td>\n",
       "      <td>0.0</td>\n",
       "      <td>0.0</td>\n",
       "      <td>1.0</td>\n",
       "      <td>0.0</td>\n",
       "      <td>0.0</td>\n",
       "      <td>0.0</td>\n",
       "      <td>...</td>\n",
       "      <td>0.0</td>\n",
       "      <td>0.066667</td>\n",
       "      <td>0.077013</td>\n",
       "      <td>0.051975</td>\n",
       "      <td>0.10</td>\n",
       "      <td>0.111111</td>\n",
       "      <td>0.000000</td>\n",
       "      <td>0.155521</td>\n",
       "      <td>0.226038</td>\n",
       "      <td>0.0</td>\n",
       "    </tr>\n",
       "    <tr>\n",
       "      <th>6</th>\n",
       "      <td>0.0</td>\n",
       "      <td>0.0</td>\n",
       "      <td>0.0</td>\n",
       "      <td>0.0</td>\n",
       "      <td>0.0</td>\n",
       "      <td>1.0</td>\n",
       "      <td>1.0</td>\n",
       "      <td>0.0</td>\n",
       "      <td>0.0</td>\n",
       "      <td>0.0</td>\n",
       "      <td>...</td>\n",
       "      <td>0.0</td>\n",
       "      <td>0.133333</td>\n",
       "      <td>0.161134</td>\n",
       "      <td>0.051975</td>\n",
       "      <td>0.20</td>\n",
       "      <td>0.222222</td>\n",
       "      <td>0.000000</td>\n",
       "      <td>0.210512</td>\n",
       "      <td>0.226038</td>\n",
       "      <td>1.0</td>\n",
       "    </tr>\n",
       "  </tbody>\n",
       "</table>\n",
       "<p>5 rows × 38 columns</p>\n",
       "</div>"
      ],
      "text/plain": [
       "   Type_t  Type_u  Method_S  Method_SA  Method_SP  Method_VB  \\\n",
       "1     0.0     0.0       1.0        0.0        0.0        0.0   \n",
       "2     0.0     0.0       1.0        0.0        0.0        0.0   \n",
       "4     0.0     0.0       0.0        0.0        1.0        0.0   \n",
       "5     0.0     0.0       0.0        0.0        0.0        0.0   \n",
       "6     0.0     0.0       0.0        0.0        0.0        1.0   \n",
       "\n",
       "   Regionname_Northern Metropolitan  Regionname_Other  \\\n",
       "1                               1.0               0.0   \n",
       "2                               1.0               0.0   \n",
       "4                               1.0               0.0   \n",
       "5                               1.0               0.0   \n",
       "6                               1.0               0.0   \n",
       "\n",
       "   Regionname_South-Eastern Metropolitan  Regionname_Southern Metropolitan  \\\n",
       "1                                    0.0                               0.0   \n",
       "2                                    0.0                               0.0   \n",
       "4                                    0.0                               0.0   \n",
       "5                                    0.0                               0.0   \n",
       "6                                    0.0                               0.0   \n",
       "\n",
       "   ...  SellerG_hockingstuart     Rooms     Price  Distance  Bedroom2  \\\n",
       "1  ...                    0.0  0.066667  0.085470  0.051975      0.10   \n",
       "2  ...                    0.0  0.133333  0.124157  0.051975      0.15   \n",
       "4  ...                    0.0  0.200000  0.136302  0.051975      0.15   \n",
       "5  ...                    0.0  0.066667  0.077013  0.051975      0.10   \n",
       "6  ...                    0.0  0.133333  0.161134  0.051975      0.20   \n",
       "\n",
       "   Bathroom       Car  Landsize  Propertycount  BuildingType  \n",
       "1  0.111111  0.000000  0.134040       0.226038           0.0  \n",
       "2  0.222222  0.000000  0.115137       0.226038           2.0  \n",
       "4  0.111111  0.111111  0.103108       0.226038           2.0  \n",
       "5  0.111111  0.000000  0.155521       0.226038           0.0  \n",
       "6  0.222222  0.000000  0.210512       0.226038           1.0  \n",
       "\n",
       "[5 rows x 38 columns]"
      ]
     },
     "execution_count": 91,
     "metadata": {},
     "output_type": "execute_result"
    }
   ],
   "source": [
    "df.head()"
   ]
  },
  {
   "cell_type": "markdown",
   "id": "0421839c-7509-4015-9942-f6ea6397342b",
   "metadata": {
    "tags": []
   },
   "source": [
    "### FEATURE SELECTION"
   ]
  },
  {
   "cell_type": "code",
   "execution_count": 92,
   "id": "b237680f-d813-4881-950c-e41f95ee2f66",
   "metadata": {},
   "outputs": [],
   "source": [
    "X = df.drop(columns = [\"Price\"])\n",
    "y = df['Price']"
   ]
  },
  {
   "cell_type": "code",
   "execution_count": 93,
   "id": "71e69086-04e4-4590-865e-4de18b78c9a4",
   "metadata": {},
   "outputs": [],
   "source": [
    "# ANOVA\n",
    "bestfeatures = SelectKBest(score_func = f_regression, k=10) \n",
    "fit = bestfeatures.fit(X,y)\n",
    "dfscores = pd.DataFrame(fit.scores_)\n",
    "dfcolumns = pd.DataFrame(X.columns)"
   ]
  },
  {
   "cell_type": "code",
   "execution_count": 94,
   "id": "863b5676-72ee-49ea-a66a-c23915f5d823",
   "metadata": {},
   "outputs": [],
   "source": [
    "featureScores = pd.concat([dfcolumns, dfscores], axis=1)\n",
    "featureScores.columns = ['Specs', 'Score']"
   ]
  },
  {
   "cell_type": "code",
   "execution_count": 95,
   "id": "1110d161-58af-40c0-83e4-14bf0d6ac834",
   "metadata": {},
   "outputs": [
    {
     "data": {
      "text/html": [
       "<div>\n",
       "<style scoped>\n",
       "    .dataframe tbody tr th:only-of-type {\n",
       "        vertical-align: middle;\n",
       "    }\n",
       "\n",
       "    .dataframe tbody tr th {\n",
       "        vertical-align: top;\n",
       "    }\n",
       "\n",
       "    .dataframe thead th {\n",
       "        text-align: right;\n",
       "    }\n",
       "</style>\n",
       "<table border=\"1\" class=\"dataframe\">\n",
       "  <thead>\n",
       "    <tr style=\"text-align: right;\">\n",
       "      <th></th>\n",
       "      <th>Specs</th>\n",
       "      <th>Score</th>\n",
       "    </tr>\n",
       "  </thead>\n",
       "  <tbody>\n",
       "    <tr>\n",
       "      <th>29</th>\n",
       "      <td>Rooms</td>\n",
       "      <td>5495.851031</td>\n",
       "    </tr>\n",
       "    <tr>\n",
       "      <th>31</th>\n",
       "      <td>Bedroom2</td>\n",
       "      <td>5192.623526</td>\n",
       "    </tr>\n",
       "    <tr>\n",
       "      <th>32</th>\n",
       "      <td>Bathroom</td>\n",
       "      <td>4723.057048</td>\n",
       "    </tr>\n",
       "    <tr>\n",
       "      <th>34</th>\n",
       "      <td>Landsize</td>\n",
       "      <td>1139.392195</td>\n",
       "    </tr>\n",
       "    <tr>\n",
       "      <th>33</th>\n",
       "      <td>Car</td>\n",
       "      <td>1032.813553</td>\n",
       "    </tr>\n",
       "    <tr>\n",
       "      <th>30</th>\n",
       "      <td>Distance</td>\n",
       "      <td>966.468111</td>\n",
       "    </tr>\n",
       "    <tr>\n",
       "      <th>21</th>\n",
       "      <td>Suburb_Other</td>\n",
       "      <td>48.319617</td>\n",
       "    </tr>\n",
       "    <tr>\n",
       "      <th>19</th>\n",
       "      <td>Suburb_Brunswick</td>\n",
       "      <td>45.141322</td>\n",
       "    </tr>\n",
       "    <tr>\n",
       "      <th>9</th>\n",
       "      <td>Regionname_Southern Metropolitan</td>\n",
       "      <td>41.143364</td>\n",
       "    </tr>\n",
       "    <tr>\n",
       "      <th>12</th>\n",
       "      <td>CouncilArea_Glen Eira City Council</td>\n",
       "      <td>30.551126</td>\n",
       "    </tr>\n",
       "  </tbody>\n",
       "</table>\n",
       "</div>"
      ],
      "text/plain": [
       "                                 Specs        Score\n",
       "29                               Rooms  5495.851031\n",
       "31                            Bedroom2  5192.623526\n",
       "32                            Bathroom  4723.057048\n",
       "34                            Landsize  1139.392195\n",
       "33                                 Car  1032.813553\n",
       "30                            Distance   966.468111\n",
       "21                        Suburb_Other    48.319617\n",
       "19                    Suburb_Brunswick    45.141322\n",
       "9     Regionname_Southern Metropolitan    41.143364\n",
       "12  CouncilArea_Glen Eira City Council    30.551126"
      ]
     },
     "execution_count": 95,
     "metadata": {},
     "output_type": "execute_result"
    }
   ],
   "source": [
    "featureScores.nlargest(10,'Score')"
   ]
  },
  {
   "cell_type": "code",
   "execution_count": 96,
   "id": "fed676d0-88a6-4600-ac88-0eff7ea94c28",
   "metadata": {
    "collapsed": true,
    "jupyter": {
     "outputs_hidden": true
    },
    "tags": []
   },
   "outputs": [
    {
     "data": {
      "image/png": "[encoded data removed]",
      "text/plain": [
       "<Figure size 1440x1440 with 2 Axes>"
      ]
     },
     "metadata": {
      "needs_background": "light"
     },
     "output_type": "display_data"
    }
   ],
   "source": [
    "# correlation heatmap\n",
    "plt.figure(figsize=(20,20))\n",
    "sns.heatmap(df.corr('spearman'), annot=False)\n",
    "plt.show()"
   ]
  },
  {
   "cell_type": "code",
   "execution_count": 97,
   "id": "3daac575-12cd-4d8f-8204-42e555fb8fd8",
   "metadata": {},
   "outputs": [
    {
     "data": {
      "text/plain": [
       "Price                                 1.000000\n",
       "Rooms                                 0.500528\n",
       "Bedroom2                              0.479218\n",
       "Bathroom                              0.357064\n",
       "Car                                   0.273038\n",
       "Landsize                              0.237484\n",
       "Regionname_Southern Metropolitan      0.054915\n",
       "CouncilArea_Glen Eira City Council    0.038831\n",
       "Suburb_Brunswick                      0.033494\n",
       "SellerG_Buxton                        0.028182\n",
       "CouncilArea_Moreland City Council     0.021657\n",
       "Name: Price, dtype: float64"
      ]
     },
     "execution_count": 97,
     "metadata": {},
     "output_type": "execute_result"
    }
   ],
   "source": [
    "df.corr('spearman')['Price'].sort_values(ascending = False).head(11)"
   ]
  },
  {
   "cell_type": "code",
   "execution_count": 98,
   "id": "bb0077e0-6da1-4aad-b92a-458937593dca",
   "metadata": {},
   "outputs": [
    {
     "name": "stdout",
     "output_type": "stream",
     "text": [
      "[0.00732881 0.01331924 0.01242931 0.00093091 0.00827842 0.00720251\n",
      " 0.00897681 0.001776   0.0054286  0.01186399 0.00963605 0.00416821\n",
      " 0.00537547 0.00596591 0.00636369 0.01052522 0.01692997 0.02519\n",
      " 0.02728125 0.00446802 0.00229314 0.00652857 0.00103106 0.0010475\n",
      " 0.00599012 0.00855198 0.00677386 0.01151817 0.00989484 0.11426082\n",
      " 0.24057907 0.0587952  0.11069551 0.03170163 0.1001483  0.0761492\n",
      " 0.02060264]\n"
     ]
    }
   ],
   "source": [
    "model = ExtraTreesRegressor()\n",
    "model.fit(X,y)\n",
    "print(model.feature_importances_)"
   ]
  },
  {
   "cell_type": "code",
   "execution_count": 99,
   "id": "5812c88e-9f31-4d5f-b884-e8e4bc2ea5f3",
   "metadata": {},
   "outputs": [
    {
     "data": {
      "text/plain": [
       "<AxesSubplot:>"
      ]
     },
     "execution_count": 99,
     "metadata": {},
     "output_type": "execute_result"
    },
    {
     "data": {
      "image/png": "[encoded data removed]",
      "text/plain": [
       "<Figure size 432x288 with 1 Axes>"
      ]
     },
     "metadata": {
      "needs_background": "light"
     },
     "output_type": "display_data"
    }
   ],
   "source": [
    "feat_importances = pd.Series(model.feature_importances_, index = X.columns)\n",
    "feat_importances.nlargest(10).plot(kind='barh')"
   ]
  }
 ],
 "metadata": {
  "kernelspec": {
   "display_name": "Python 3 (ipykernel)",
   "language": "python",
   "name": "python3"
  },
  "language_info": {
   "codemirror_mode": {
    "name": "ipython",
    "version": 3
   },
   "file_extension": ".py",
   "mimetype": "text/x-python",
   "name": "python",
   "nbconvert_exporter": "python",
   "pygments_lexer": "ipython3",
   "version": "3.9.12"
  }
 },
 "nbformat": 4,
 "nbformat_minor": 5
}
